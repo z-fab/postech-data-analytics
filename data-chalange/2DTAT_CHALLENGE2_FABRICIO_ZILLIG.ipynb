{
  "cells": [
    {
      "cell_type": "markdown",
      "metadata": {
        "id": "tXhCkW3fVFWM"
      },
      "source": [
        "# DATA CHALLENGE 2\n",
        "\n",
        "---\n",
        "\n",
        "Bem vindos ao segundo DATA CHALLENGE!\n",
        "\n",
        "Aqui traremos alguns problemas que envolvam python, dados, aprendizado de máquina e afins. O intuito é que vocês tentem ao máximo praticar com esses desafios que trarão por ventura, alguns tópicos interessantes."
      ]
    },
    {
      "cell_type": "markdown",
      "metadata": {
        "id": "OJLhU-ksVVRU"
      },
      "source": [
        "#CHALLENGE: Funções e Listas\n",
        "\n",
        "Peter é um jovem rapaz de 10 anos que adora comer doces. Ele costuma guardar esses doces variados em uma mochila.\n",
        "\n",
        "Podemos representar a mochila de Peter como uma lista da seguinte forma:\n",
        "\n",
        "`doces = [1,1,2,3,4,5,5,5] `\n",
        "\n",
        "Nesse caso, a mochila de Peter contém 8 doces, sendo 2 do tipo `1`, 1 do tipo `2`, 1 do tipo `3`, 1 do tipo `4` e 3 do tipo `5`.\n",
        "\n",
        "Segundo médico de Peter, ele deve reduzir seu consumo de doces pela metade. E como Peter é esperto, ele quer consumir a maior variedade de doces possível seguindo a orientação do Médico.\n",
        "\n",
        "Ex:\n",
        "\n",
        "- Se a mochila dele tiver 8 doces da seguinte forma : `doces = [1,1,2,3,4,5,5,5] ` - Peter consumirá no máximo 4 variedades.\n",
        "\n",
        "- Se a mochila dele tiver 4 doces da seguinte forma : `doces = [1,1,2,3]` - Peter consumirá no máximo 2 variedades.\n",
        "\n",
        "- Se a mochila dele tiver 8 doces da seguinte forma : `doces = [1,1,2,3,2,1,3,2]` - Peter consumirá no máximo 3 variedades.\n",
        "\n",
        "...\n",
        "\n",
        "Obs: Vamos supor que sempre haja uma quantidade `par` de doces na mochila.\n",
        "\n",
        "\n",
        "\n",
        "\n",
        "## Tarefa\n",
        "\n",
        "Construa uma lógica para a função `DocesPeter()` onde ela receba como parâmetro uma `lista` contendo os doces e seus tipos, e devolva o valor da quantidade máxima de doces que Peter pode consumir (a função deve devolver um `int`).\n",
        "\n",
        "Não se assuste caso você não esteja acostumado a ver a função assim:\n",
        "\n",
        "```python\n",
        "\n",
        "def DocesPeter(lista_tipos_doces) -> int:\n",
        "\n",
        "```\n",
        "\n",
        "Isso só significa que a função vai receber como parâmetro essa `lista_tipos_doces` e devolverá um número do tipo `int`.\n",
        "\n",
        "Aqui a ideia é deixar a criatividade fluir.\n",
        "\n",
        "É um tipo de problema que não tem 1 tipo de solução, mas lembre que no primeiro CHALLENGE havia uma solução que torna mais legível e simples o código.\n",
        "\n",
        "Não ligue para o tempo que vai levar, apenas se concentre em achar uma solução e verificar suas heurísticas(lógica).\n",
        "\n",
        "Esse é um problema que não precisa de nenhuma biblioteca pronta! Basta colocar a criatividade pra jogo.\n",
        "\n"
      ]
    },
    {
      "cell_type": "code",
      "execution_count": 12,
      "metadata": {
        "id": "dZGNQ9VmU0H5"
      },
      "outputs": [],
      "source": [
        "def DocesPeter(lista_tipos_doces) -> int:\n",
        "  tipos_doces = len(set(lista_tipos_doces))\n",
        "  qtd_doces = int(len(lista_tipos_doces)/2)\n",
        "  return tipos_doces if qtd_doces > tipos_doces else qtd_doces"
      ]
    },
    {
      "cell_type": "markdown",
      "metadata": {
        "id": "OZED7IGFVsiO"
      },
      "source": [
        "# Observação:\n",
        "\n",
        "Seu objetico é só escrever sua lógica dentro da função e enviar o seu arquivo para `profmatheus.pavani@fiap.com.br` e `ana.cunha@fiap.com.br` onde apenas executaremos seu código para testar, portanto: **É PROIBIDO ALTERAR A FUNÇÃO**, o que significa que você deve manter a estrutura, apenas colocando seu lógica dentro para apenas executarmos a célula de código.\n",
        "\n",
        "Favor trocar o campo `seunomeaqui` no nome do arquivo para seu nome , exemplo:\n",
        "\n",
        "- DTAT_CHALLENGE_matheuspavani.ipynb"
      ]
    },
    {
      "cell_type": "markdown",
      "metadata": {},
      "source": []
    }
  ],
  "metadata": {
    "colab": {
      "provenance": []
    },
    "kernelspec": {
      "display_name": "Python 3",
      "name": "python3"
    },
    "language_info": {
      "codemirror_mode": {
        "name": "ipython",
        "version": 3
      },
      "file_extension": ".py",
      "mimetype": "text/x-python",
      "name": "python",
      "nbconvert_exporter": "python",
      "pygments_lexer": "ipython3",
      "version": "3.10.8"
    }
  },
  "nbformat": 4,
  "nbformat_minor": 0
}
