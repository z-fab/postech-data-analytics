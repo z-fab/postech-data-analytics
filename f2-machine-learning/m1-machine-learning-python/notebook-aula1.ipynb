{
 "cells": [
  {
   "cell_type": "code",
   "execution_count": 26,
   "metadata": {},
   "outputs": [],
   "source": [
    "import polars as pl\n",
    "import numpy as np\n",
    "import matplotlib.pyplot as plt\n",
    "import random\n",
    "\n",
    "from sklearn.model_selection import train_test_split\n",
    "from sklearn.neighbors import KNeighborsClassifier"
   ]
  },
  {
   "cell_type": "markdown",
   "metadata": {},
   "source": [
    "# Fundamentos e Primeiros passos em ML"
   ]
  },
  {
   "cell_type": "markdown",
   "metadata": {},
   "source": [
    "Machine Learning é uma área da computação que estuda o desenvolvimento de algoritmos que aprendem ou melhoram seu desempenho a partir de dados. Esses algoritmos são utilizados para resolver problemas que não podem ser resolvidos por meio de programação tradicional, como por exemplo, reconhecimento de padrões, classificação de dados, previsão de séries temporais, entre outros.\n",
    "\n",
    "O aprendizado de máquina é uma subárea da inteligência artificial.\n",
    "\n",
    "Existem dois tipos clássicos de aprendizado de máquina:\n",
    "\n",
    "- **Aprendizado supervisionado**: o algoritmo aprende a partir de dados rotulados, ou seja, dados que já possuem a resposta correta. Por exemplo, um algoritmo que aprende a reconhecer imagens de cachorros e gatos a partir de imagens que já estão rotuladas como cachorro ou gato.\n",
    "\n",
    "    - **Classificação**: o algoritmo aprende a partir de dados rotulados que representam classes. Por exemplo, um algoritmo que aprende a classificar e-mails como spam ou não spam a partir de e-mails que já estão rotulados como spam ou não spam.\n",
    "\n",
    "    - **Regressão**: o algoritmo aprende a partir de dados rotulados que representam valores contínuos. Por exemplo, um algoritmo que aprende a prever o preço de uma casa a partir de dados rotulados que representam o preço de outras casas.\n",
    "\n",
    "- **Aprendizado não supervisionado**: o algoritmo aprende a partir de dados não rotulados, ou seja, dados que não possuem a resposta correta. Por exemplo, um algoritmo que aprende a agrupar clientes de um e-commerce a partir de suas características.\n",
    "\n",
    "    - **Agrupamento**: o algoritmo aprende a partir de dados não rotulados que representam grupos. Por exemplo, um algoritmo que aprende a agrupar clientes de um e-commerce a partir de suas características.\n",
    "\n",
    "    - **Redução de dimensionalidade**: o algoritmo aprende a partir de dados não rotulados que representam características. Por exemplo, um algoritmo que aprende a reduzir a dimensionalidade de um conjunto de dados a partir de suas características.\n",
    "    \n",
    "    - **Regras de associação**: o algoritmo aprende a partir de dados não rotulados que representam itens. Por exemplo, um algoritmo que aprende a recomendar produtos a partir de itens que já foram comprados.\n",
    "\n",
    "Apesar dessa divisão clássica existe diversas outras técnicas de aprendizado de máquina que não se encaixam nessas categorias, como por exemplo, aprendizado por reforço, ensemble learning, redes neurais artificiais e aprendizado profundo, entre outros.\n",
    "\n"
   ]
  },
  {
   "cell_type": "markdown",
   "metadata": {},
   "source": [
    "## Parte 1 e 2 - Importando e manipulando dados"
   ]
  },
  {
   "cell_type": "markdown",
   "metadata": {},
   "source": [
    "Importando bibliotecas utilizadas"
   ]
  },
  {
   "cell_type": "markdown",
   "metadata": {},
   "source": [
    "Carregando os dataframes que serão usados na aula"
   ]
  },
  {
   "cell_type": "code",
   "execution_count": 4,
   "metadata": {},
   "outputs": [],
   "source": [
    "df_excel = pl.read_excel(\"data/chess.xlsx\")\n",
    "df_csv = pl.read_csv(\"data/tomato.csv\")"
   ]
  },
  {
   "cell_type": "markdown",
   "metadata": {},
   "source": [
    "Verificando o conteúdo dos dataframes"
   ]
  },
  {
   "cell_type": "code",
   "execution_count": 5,
   "metadata": {},
   "outputs": [
    {
     "data": {
      "text/html": [
       "<div><style>\n",
       ".dataframe > thead > tr > th,\n",
       ".dataframe > tbody > tr > td {\n",
       "  text-align: right;\n",
       "  white-space: pre-wrap;\n",
       "}\n",
       "</style>\n",
       "<small>shape: (5, 14)</small><table border=\"1\" class=\"dataframe\"><thead><tr><th>rated</th><th>created_at</th><th>last_move_at</th><th>turns</th><th>victory_status</th><th>winner</th><th>increment_code</th><th>white_id</th><th>white_rating</th><th>black_id</th><th>black_rating</th><th>opening_eco</th><th>opening_name</th><th>opening_ply</th></tr><tr><td>bool</td><td>f64</td><td>f64</td><td>i64</td><td>str</td><td>str</td><td>str</td><td>str</td><td>i64</td><td>str</td><td>i64</td><td>str</td><td>str</td><td>i64</td></tr></thead><tbody><tr><td>false</td><td>1.5042e17</td><td>1.5042e17</td><td>13</td><td>&quot;outoftime&quot;</td><td>&quot;white&quot;</td><td>&quot;15+2&quot;</td><td>&quot;bourgris&quot;</td><td>1500</td><td>&quot;a-00&quot;</td><td>1191</td><td>&quot;D10&quot;</td><td>&quot;Slav Defense: …</td><td>5</td></tr><tr><td>true</td><td>1.5041e17</td><td>1.5041e17</td><td>16</td><td>&quot;resign&quot;</td><td>&quot;black&quot;</td><td>&quot;5+10&quot;</td><td>&quot;a-00&quot;</td><td>1322</td><td>&quot;skinnerua&quot;</td><td>1261</td><td>&quot;B00&quot;</td><td>&quot;Nimzowitsch De…</td><td>4</td></tr><tr><td>true</td><td>1.5041e17</td><td>1.5041e17</td><td>61</td><td>&quot;mate&quot;</td><td>&quot;white&quot;</td><td>&quot;5+10&quot;</td><td>&quot;ischia&quot;</td><td>1496</td><td>&quot;a-00&quot;</td><td>1500</td><td>&quot;C20&quot;</td><td>&quot;King&#x27;s Pawn Ga…</td><td>3</td></tr><tr><td>true</td><td>1.5041e17</td><td>1.5041e17</td><td>61</td><td>&quot;mate&quot;</td><td>&quot;white&quot;</td><td>&quot;20+0&quot;</td><td>&quot;daniamurashov&quot;</td><td>1439</td><td>&quot;adivanov2009&quot;</td><td>1454</td><td>&quot;D02&quot;</td><td>&quot;Queen&#x27;s Pawn G…</td><td>3</td></tr><tr><td>true</td><td>1.5040e17</td><td>1.5040e17</td><td>95</td><td>&quot;mate&quot;</td><td>&quot;white&quot;</td><td>&quot;30+3&quot;</td><td>&quot;nik221107&quot;</td><td>1523</td><td>&quot;adivanov2009&quot;</td><td>1469</td><td>&quot;C41&quot;</td><td>&quot;Philidor Defen…</td><td>5</td></tr></tbody></table></div>"
      ],
      "text/plain": [
       "shape: (5, 14)\n",
       "┌───────┬────────────┬─────────────┬───────┬───┬────────────┬────────────┬────────────┬────────────┐\n",
       "│ rated ┆ created_at ┆ last_move_a ┆ turns ┆ … ┆ black_rati ┆ opening_ec ┆ opening_na ┆ opening_pl │\n",
       "│ ---   ┆ ---        ┆ t           ┆ ---   ┆   ┆ ng         ┆ o          ┆ me         ┆ y          │\n",
       "│ bool  ┆ f64        ┆ ---         ┆ i64   ┆   ┆ ---        ┆ ---        ┆ ---        ┆ ---        │\n",
       "│       ┆            ┆ f64         ┆       ┆   ┆ i64        ┆ str        ┆ str        ┆ i64        │\n",
       "╞═══════╪════════════╪═════════════╪═══════╪═══╪════════════╪════════════╪════════════╪════════════╡\n",
       "│ false ┆ 1.5042e17  ┆ 1.5042e17   ┆ 13    ┆ … ┆ 1191       ┆ D10        ┆ Slav       ┆ 5          │\n",
       "│       ┆            ┆             ┆       ┆   ┆            ┆            ┆ Defense:   ┆            │\n",
       "│       ┆            ┆             ┆       ┆   ┆            ┆            ┆ Exchange   ┆            │\n",
       "│       ┆            ┆             ┆       ┆   ┆            ┆            ┆ Variation  ┆            │\n",
       "│ true  ┆ 1.5041e17  ┆ 1.5041e17   ┆ 16    ┆ … ┆ 1261       ┆ B00        ┆ Nimzowitsc ┆ 4          │\n",
       "│       ┆            ┆             ┆       ┆   ┆            ┆            ┆ h Defense: ┆            │\n",
       "│       ┆            ┆             ┆       ┆   ┆            ┆            ┆ Kennedy    ┆            │\n",
       "│       ┆            ┆             ┆       ┆   ┆            ┆            ┆ Var…       ┆            │\n",
       "│ true  ┆ 1.5041e17  ┆ 1.5041e17   ┆ 61    ┆ … ┆ 1500       ┆ C20        ┆ King's     ┆ 3          │\n",
       "│       ┆            ┆             ┆       ┆   ┆            ┆            ┆ Pawn Game: ┆            │\n",
       "│       ┆            ┆             ┆       ┆   ┆            ┆            ┆ Leonardis  ┆            │\n",
       "│       ┆            ┆             ┆       ┆   ┆            ┆            ┆ Vari…      ┆            │\n",
       "│ true  ┆ 1.5041e17  ┆ 1.5041e17   ┆ 61    ┆ … ┆ 1454       ┆ D02        ┆ Queen's    ┆ 3          │\n",
       "│       ┆            ┆             ┆       ┆   ┆            ┆            ┆ Pawn Game: ┆            │\n",
       "│       ┆            ┆             ┆       ┆   ┆            ┆            ┆ Zukertort  ┆            │\n",
       "│       ┆            ┆             ┆       ┆   ┆            ┆            ┆ Var…       ┆            │\n",
       "│ true  ┆ 1.5040e17  ┆ 1.5040e17   ┆ 95    ┆ … ┆ 1469       ┆ C41        ┆ Philidor   ┆ 5          │\n",
       "│       ┆            ┆             ┆       ┆   ┆            ┆            ┆ Defense    ┆            │\n",
       "└───────┴────────────┴─────────────┴───────┴───┴────────────┴────────────┴────────────┴────────────┘"
      ]
     },
     "execution_count": 5,
     "metadata": {},
     "output_type": "execute_result"
    }
   ],
   "source": [
    "# Top 5 linhas do dataframe df_excel\n",
    "df_excel.head()"
   ]
  },
  {
   "cell_type": "code",
   "execution_count": 6,
   "metadata": {},
   "outputs": [
    {
     "data": {
      "text/html": [
       "<div><style>\n",
       ".dataframe > thead > tr > th,\n",
       ".dataframe > tbody > tr > td {\n",
       "  text-align: right;\n",
       "  white-space: pre-wrap;\n",
       "}\n",
       "</style>\n",
       "<small>shape: (5, 6)</small><table border=\"1\" class=\"dataframe\"><thead><tr><th>Date</th><th>Unit</th><th>Minimum</th><th>Maximum</th><th>Average</th><th>Market</th></tr><tr><td>str</td><td>str</td><td>i64</td><td>i64</td><td>f64</td><td>str</td></tr></thead><tbody><tr><td>&quot;2021-05-09&quot;</td><td>&quot;Kg&quot;</td><td>10</td><td>15</td><td>12.5</td><td>&quot;Tomato&quot;</td></tr><tr><td>&quot;2021-05-10&quot;</td><td>&quot;Kg&quot;</td><td>10</td><td>15</td><td>12.5</td><td>&quot;Tomato&quot;</td></tr><tr><td>&quot;2021-05-11&quot;</td><td>&quot;Kg&quot;</td><td>10</td><td>15</td><td>12.5</td><td>&quot;Tomato&quot;</td></tr><tr><td>&quot;2021-05-12&quot;</td><td>&quot;Kg&quot;</td><td>30</td><td>35</td><td>32.5</td><td>&quot;Tomato&quot;</td></tr><tr><td>&quot;2021-05-13&quot;</td><td>&quot;Kg&quot;</td><td>35</td><td>40</td><td>37.5</td><td>&quot;Tomato&quot;</td></tr></tbody></table></div>"
      ],
      "text/plain": [
       "shape: (5, 6)\n",
       "┌────────────┬──────┬─────────┬─────────┬─────────┬────────┐\n",
       "│ Date       ┆ Unit ┆ Minimum ┆ Maximum ┆ Average ┆ Market │\n",
       "│ ---        ┆ ---  ┆ ---     ┆ ---     ┆ ---     ┆ ---    │\n",
       "│ str        ┆ str  ┆ i64     ┆ i64     ┆ f64     ┆ str    │\n",
       "╞════════════╪══════╪═════════╪═════════╪═════════╪════════╡\n",
       "│ 2021-05-09 ┆ Kg   ┆ 10      ┆ 15      ┆ 12.5    ┆ Tomato │\n",
       "│ 2021-05-10 ┆ Kg   ┆ 10      ┆ 15      ┆ 12.5    ┆ Tomato │\n",
       "│ 2021-05-11 ┆ Kg   ┆ 10      ┆ 15      ┆ 12.5    ┆ Tomato │\n",
       "│ 2021-05-12 ┆ Kg   ┆ 30      ┆ 35      ┆ 32.5    ┆ Tomato │\n",
       "│ 2021-05-13 ┆ Kg   ┆ 35      ┆ 40      ┆ 37.5    ┆ Tomato │\n",
       "└────────────┴──────┴─────────┴─────────┴─────────┴────────┘"
      ]
     },
     "execution_count": 6,
     "metadata": {},
     "output_type": "execute_result"
    }
   ],
   "source": [
    "# Últimas 5 linhas do dataframe df_csv\n",
    "df_csv.tail()"
   ]
  },
  {
   "cell_type": "markdown",
   "metadata": {},
   "source": [
    "Verificando o \"formato\" do dataframe: (linhas, colunas)"
   ]
  },
  {
   "cell_type": "code",
   "execution_count": 7,
   "metadata": {},
   "outputs": [
    {
     "data": {
      "text/plain": [
       "(2741, 6)"
      ]
     },
     "execution_count": 7,
     "metadata": {},
     "output_type": "execute_result"
    }
   ],
   "source": [
    "df_csv.shape"
   ]
  },
  {
   "cell_type": "markdown",
   "metadata": {},
   "source": [
    "Descrevendo os dados contidos no dataframe df_excel"
   ]
  },
  {
   "cell_type": "code",
   "execution_count": 8,
   "metadata": {},
   "outputs": [
    {
     "data": {
      "text/html": [
       "<div><style>\n",
       ".dataframe > thead > tr > th,\n",
       ".dataframe > tbody > tr > td {\n",
       "  text-align: right;\n",
       "  white-space: pre-wrap;\n",
       "}\n",
       "</style>\n",
       "<small>shape: (9, 15)</small><table border=\"1\" class=\"dataframe\"><thead><tr><th>describe</th><th>rated</th><th>created_at</th><th>last_move_at</th><th>turns</th><th>victory_status</th><th>winner</th><th>increment_code</th><th>white_id</th><th>white_rating</th><th>black_id</th><th>black_rating</th><th>opening_eco</th><th>opening_name</th><th>opening_ply</th></tr><tr><td>str</td><td>f64</td><td>f64</td><td>f64</td><td>f64</td><td>str</td><td>str</td><td>str</td><td>str</td><td>f64</td><td>str</td><td>f64</td><td>str</td><td>str</td><td>f64</td></tr></thead><tbody><tr><td>&quot;count&quot;</td><td>20058.0</td><td>20058.0</td><td>20058.0</td><td>20058.0</td><td>&quot;20058&quot;</td><td>&quot;20058&quot;</td><td>&quot;20058&quot;</td><td>&quot;20058&quot;</td><td>20058.0</td><td>&quot;20058&quot;</td><td>20058.0</td><td>&quot;20058&quot;</td><td>&quot;20058&quot;</td><td>20058.0</td></tr><tr><td>&quot;null_count&quot;</td><td>0.0</td><td>0.0</td><td>0.0</td><td>0.0</td><td>&quot;0&quot;</td><td>&quot;0&quot;</td><td>&quot;0&quot;</td><td>&quot;0&quot;</td><td>0.0</td><td>&quot;0&quot;</td><td>0.0</td><td>&quot;0&quot;</td><td>&quot;0&quot;</td><td>0.0</td></tr><tr><td>&quot;mean&quot;</td><td>0.805414</td><td>6.3213e16</td><td>6.3131e16</td><td>60.465999</td><td>null</td><td>null</td><td>null</td><td>null</td><td>1596.631868</td><td>null</td><td>1588.831987</td><td>null</td><td>null</td><td>4.816981</td></tr><tr><td>&quot;std&quot;</td><td>0.395891</td><td>7.2923e16</td><td>7.2906e16</td><td>33.570585</td><td>null</td><td>null</td><td>null</td><td>null</td><td>291.253376</td><td>null</td><td>291.036126</td><td>null</td><td>null</td><td>2.797152</td></tr><tr><td>&quot;min&quot;</td><td>0.0</td><td>1.3768e12</td><td>1.3768e12</td><td>1.0</td><td>&quot;draw&quot;</td><td>&quot;black&quot;</td><td>&quot;0+12&quot;</td><td>&quot;--jim--&quot;</td><td>784.0</td><td>&quot;-0olo0-&quot;</td><td>789.0</td><td>&quot;A00&quot;</td><td>&quot;Alekhine Defen…</td><td>1.0</td></tr><tr><td>&quot;25%&quot;</td><td>null</td><td>1.4983e12</td><td>1.4983e12</td><td>37.0</td><td>null</td><td>null</td><td>null</td><td>null</td><td>1398.0</td><td>null</td><td>1391.0</td><td>null</td><td>null</td><td>3.0</td></tr><tr><td>&quot;50%&quot;</td><td>null</td><td>1.5044e12</td><td>1.5044e12</td><td>55.0</td><td>null</td><td>null</td><td>null</td><td>null</td><td>1567.0</td><td>null</td><td>1562.0</td><td>null</td><td>null</td><td>4.0</td></tr><tr><td>&quot;75%&quot;</td><td>null</td><td>1.4867e17</td><td>1.4867e17</td><td>79.0</td><td>null</td><td>null</td><td>null</td><td>null</td><td>1793.0</td><td>null</td><td>1784.0</td><td>null</td><td>null</td><td>6.0</td></tr><tr><td>&quot;max&quot;</td><td>1.0</td><td>1.5045e17</td><td>1.5045e17</td><td>349.0</td><td>&quot;resign&quot;</td><td>&quot;white&quot;</td><td>&quot;90+8&quot;</td><td>&quot;zzzimon&quot;</td><td>2700.0</td><td>&quot;zztopillo&quot;</td><td>2723.0</td><td>&quot;E98&quot;</td><td>&quot;Zukertort Open…</td><td>28.0</td></tr></tbody></table></div>"
      ],
      "text/plain": [
       "shape: (9, 15)\n",
       "┌───────────┬──────────┬───────────┬───────────┬───┬───────────┬───────────┬───────────┬───────────┐\n",
       "│ describe  ┆ rated    ┆ created_a ┆ last_move ┆ … ┆ black_rat ┆ opening_e ┆ opening_n ┆ opening_p │\n",
       "│ ---       ┆ ---      ┆ t         ┆ _at       ┆   ┆ ing       ┆ co        ┆ ame       ┆ ly        │\n",
       "│ str       ┆ f64      ┆ ---       ┆ ---       ┆   ┆ ---       ┆ ---       ┆ ---       ┆ ---       │\n",
       "│           ┆          ┆ f64       ┆ f64       ┆   ┆ f64       ┆ str       ┆ str       ┆ f64       │\n",
       "╞═══════════╪══════════╪═══════════╪═══════════╪═══╪═══════════╪═══════════╪═══════════╪═══════════╡\n",
       "│ count     ┆ 20058.0  ┆ 20058.0   ┆ 20058.0   ┆ … ┆ 20058.0   ┆ 20058     ┆ 20058     ┆ 20058.0   │\n",
       "│ null_coun ┆ 0.0      ┆ 0.0       ┆ 0.0       ┆ … ┆ 0.0       ┆ 0         ┆ 0         ┆ 0.0       │\n",
       "│ t         ┆          ┆           ┆           ┆   ┆           ┆           ┆           ┆           │\n",
       "│ mean      ┆ 0.805414 ┆ 6.3213e16 ┆ 6.3131e16 ┆ … ┆ 1588.8319 ┆ null      ┆ null      ┆ 4.816981  │\n",
       "│           ┆          ┆           ┆           ┆   ┆ 87        ┆           ┆           ┆           │\n",
       "│ std       ┆ 0.395891 ┆ 7.2923e16 ┆ 7.2906e16 ┆ … ┆ 291.03612 ┆ null      ┆ null      ┆ 2.797152  │\n",
       "│           ┆          ┆           ┆           ┆   ┆ 6         ┆           ┆           ┆           │\n",
       "│ min       ┆ 0.0      ┆ 1.3768e12 ┆ 1.3768e12 ┆ … ┆ 789.0     ┆ A00       ┆ Alekhine  ┆ 1.0       │\n",
       "│           ┆          ┆           ┆           ┆   ┆           ┆           ┆ Defense   ┆           │\n",
       "│ 25%       ┆ null     ┆ 1.4983e12 ┆ 1.4983e12 ┆ … ┆ 1391.0    ┆ null      ┆ null      ┆ 3.0       │\n",
       "│ 50%       ┆ null     ┆ 1.5044e12 ┆ 1.5044e12 ┆ … ┆ 1562.0    ┆ null      ┆ null      ┆ 4.0       │\n",
       "│ 75%       ┆ null     ┆ 1.4867e17 ┆ 1.4867e17 ┆ … ┆ 1784.0    ┆ null      ┆ null      ┆ 6.0       │\n",
       "│ max       ┆ 1.0      ┆ 1.5045e17 ┆ 1.5045e17 ┆ … ┆ 2723.0    ┆ E98       ┆ Zukertort ┆ 28.0      │\n",
       "│           ┆          ┆           ┆           ┆   ┆           ┆           ┆ Opening:  ┆           │\n",
       "│           ┆          ┆           ┆           ┆   ┆           ┆           ┆ Wade      ┆           │\n",
       "│           ┆          ┆           ┆           ┆   ┆           ┆           ┆ Defense   ┆           │\n",
       "└───────────┴──────────┴───────────┴───────────┴───┴───────────┴───────────┴───────────┴───────────┘"
      ]
     },
     "execution_count": 8,
     "metadata": {},
     "output_type": "execute_result"
    }
   ],
   "source": [
    "df_excel.describe()"
   ]
  },
  {
   "cell_type": "markdown",
   "metadata": {},
   "source": [
    "Uma outra maneira de verificar os tipos das colunas"
   ]
  },
  {
   "cell_type": "code",
   "execution_count": 9,
   "metadata": {},
   "outputs": [
    {
     "data": {
      "text/html": [
       "<div><style>\n",
       ".dataframe > thead > tr > th,\n",
       ".dataframe > tbody > tr > td {\n",
       "  text-align: right;\n",
       "  white-space: pre-wrap;\n",
       "}\n",
       "</style>\n",
       "<small>shape: (14, 2)</small><table border=\"1\" class=\"dataframe\"><thead><tr><th>col</th><th>type</th></tr><tr><td>str</td><td>object</td></tr></thead><tbody><tr><td>&quot;rated&quot;</td><td>Boolean</td></tr><tr><td>&quot;created_at&quot;</td><td>Float64</td></tr><tr><td>&quot;last_move_at&quot;</td><td>Float64</td></tr><tr><td>&quot;turns&quot;</td><td>Int64</td></tr><tr><td>&quot;victory_status…</td><td>Utf8</td></tr><tr><td>&quot;winner&quot;</td><td>Utf8</td></tr><tr><td>&quot;increment_code…</td><td>Utf8</td></tr><tr><td>&quot;white_id&quot;</td><td>Utf8</td></tr><tr><td>&quot;white_rating&quot;</td><td>Int64</td></tr><tr><td>&quot;black_id&quot;</td><td>Utf8</td></tr><tr><td>&quot;black_rating&quot;</td><td>Int64</td></tr><tr><td>&quot;opening_eco&quot;</td><td>Utf8</td></tr><tr><td>&quot;opening_name&quot;</td><td>Utf8</td></tr><tr><td>&quot;opening_ply&quot;</td><td>Int64</td></tr></tbody></table></div>"
      ],
      "text/plain": [
       "shape: (14, 2)\n",
       "┌──────────────┬─────────┐\n",
       "│ col          ┆ type    │\n",
       "│ ---          ┆ ---     │\n",
       "│ str          ┆ object  │\n",
       "╞══════════════╪═════════╡\n",
       "│ rated        ┆ Boolean │\n",
       "│ created_at   ┆ Float64 │\n",
       "│ last_move_at ┆ Float64 │\n",
       "│ turns        ┆ Int64   │\n",
       "│ …            ┆ …       │\n",
       "│ black_rating ┆ Int64   │\n",
       "│ opening_eco  ┆ Utf8    │\n",
       "│ opening_name ┆ Utf8    │\n",
       "│ opening_ply  ┆ Int64   │\n",
       "└──────────────┴─────────┘"
      ]
     },
     "execution_count": 9,
     "metadata": {},
     "output_type": "execute_result"
    }
   ],
   "source": [
    "pl.DataFrame({'col': df_excel.columns, 'type': df_excel.dtypes})"
   ]
  },
  {
   "cell_type": "markdown",
   "metadata": {},
   "source": [
    "Verificando os dados categóricos da coluna `victory_status`"
   ]
  },
  {
   "cell_type": "code",
   "execution_count": 10,
   "metadata": {},
   "outputs": [
    {
     "data": {
      "text/html": [
       "<div><style>\n",
       ".dataframe > thead > tr > th,\n",
       ".dataframe > tbody > tr > td {\n",
       "  text-align: right;\n",
       "  white-space: pre-wrap;\n",
       "}\n",
       "</style>\n",
       "<small>shape: (4, 1)</small><table border=\"1\" class=\"dataframe\"><thead><tr><th>victory_status</th></tr><tr><td>str</td></tr></thead><tbody><tr><td>&quot;mate&quot;</td></tr><tr><td>&quot;resign&quot;</td></tr><tr><td>&quot;outoftime&quot;</td></tr><tr><td>&quot;draw&quot;</td></tr></tbody></table></div>"
      ],
      "text/plain": [
       "shape: (4, 1)\n",
       "┌────────────────┐\n",
       "│ victory_status │\n",
       "│ ---            │\n",
       "│ str            │\n",
       "╞════════════════╡\n",
       "│ mate           │\n",
       "│ resign         │\n",
       "│ outoftime      │\n",
       "│ draw           │\n",
       "└────────────────┘"
      ]
     },
     "execution_count": 10,
     "metadata": {},
     "output_type": "execute_result"
    }
   ],
   "source": [
    "df_excel.select(\n",
    "    pl.col('victory_status')\n",
    ").unique()"
   ]
  },
  {
   "cell_type": "code",
   "execution_count": 11,
   "metadata": {},
   "outputs": [
    {
     "data": {
      "text/plain": [
       "['mate', 'outoftime', 'draw', 'resign']"
      ]
     },
     "execution_count": 11,
     "metadata": {},
     "output_type": "execute_result"
    }
   ],
   "source": [
    "df_excel.select(\n",
    "    pl.col('victory_status')\n",
    ").unique().to_series().to_list()"
   ]
  },
  {
   "cell_type": "markdown",
   "metadata": {},
   "source": [
    "Contando número de linhas contendo cada uma das categorias"
   ]
  },
  {
   "cell_type": "code",
   "execution_count": 12,
   "metadata": {},
   "outputs": [
    {
     "data": {
      "text/html": [
       "<div><style>\n",
       ".dataframe > thead > tr > th,\n",
       ".dataframe > tbody > tr > td {\n",
       "  text-align: right;\n",
       "  white-space: pre-wrap;\n",
       "}\n",
       "</style>\n",
       "<small>shape: (4, 2)</small><table border=\"1\" class=\"dataframe\"><thead><tr><th>victory_status</th><th>counts</th></tr><tr><td>str</td><td>u32</td></tr></thead><tbody><tr><td>&quot;outoftime&quot;</td><td>1680</td></tr><tr><td>&quot;mate&quot;</td><td>6325</td></tr><tr><td>&quot;draw&quot;</td><td>906</td></tr><tr><td>&quot;resign&quot;</td><td>11147</td></tr></tbody></table></div>"
      ],
      "text/plain": [
       "shape: (4, 2)\n",
       "┌────────────────┬────────┐\n",
       "│ victory_status ┆ counts │\n",
       "│ ---            ┆ ---    │\n",
       "│ str            ┆ u32    │\n",
       "╞════════════════╪════════╡\n",
       "│ outoftime      ┆ 1680   │\n",
       "│ mate           ┆ 6325   │\n",
       "│ draw           ┆ 906    │\n",
       "│ resign         ┆ 11147  │\n",
       "└────────────────┴────────┘"
      ]
     },
     "execution_count": 12,
     "metadata": {},
     "output_type": "execute_result"
    }
   ],
   "source": [
    "df_excel.select(\n",
    "    pl.col('victory_status')\n",
    ").to_series().value_counts()"
   ]
  },
  {
   "cell_type": "markdown",
   "metadata": {},
   "source": [
    "Classificando os tomates de acordo com `Average`"
   ]
  },
  {
   "cell_type": "code",
   "execution_count": 13,
   "metadata": {},
   "outputs": [],
   "source": [
    "# Função para classificar tomates\n",
    "def categorizar_tomate_media(avg: float) -> str:\n",
    "    if avg >= 40 and avg <= 70:\n",
    "        return 'Tomate Médio'\n",
    "    elif avg < 40:\n",
    "        return 'Tomate Pequeno'\n",
    "    else:\n",
    "        return 'Tomate Grande'"
   ]
  },
  {
   "cell_type": "code",
   "execution_count": 14,
   "metadata": {},
   "outputs": [],
   "source": [
    "df_csv_categorizado = (\n",
    "    df_csv.with_columns(\n",
    "        pl.col('Average')\n",
    "            .map_elements(categorizar_tomate_media)\n",
    "            .alias('Categoria_tomate')\n",
    "    )\n",
    ")"
   ]
  },
  {
   "cell_type": "markdown",
   "metadata": {},
   "source": [
    "Contando quantos tomates foram classificados em cada categoria"
   ]
  },
  {
   "cell_type": "code",
   "execution_count": 15,
   "metadata": {},
   "outputs": [
    {
     "data": {
      "text/html": [
       "<div><style>\n",
       ".dataframe > thead > tr > th,\n",
       ".dataframe > tbody > tr > td {\n",
       "  text-align: right;\n",
       "  white-space: pre-wrap;\n",
       "}\n",
       "</style>\n",
       "<small>shape: (3, 2)</small><table border=\"1\" class=\"dataframe\"><thead><tr><th>Categoria_tomate</th><th>counts</th></tr><tr><td>str</td><td>u32</td></tr></thead><tbody><tr><td>&quot;Tomate Grande&quot;</td><td>149</td></tr><tr><td>&quot;Tomate Pequeno…</td><td>1638</td></tr><tr><td>&quot;Tomate Médio&quot;</td><td>954</td></tr></tbody></table></div>"
      ],
      "text/plain": [
       "shape: (3, 2)\n",
       "┌──────────────────┬────────┐\n",
       "│ Categoria_tomate ┆ counts │\n",
       "│ ---              ┆ ---    │\n",
       "│ str              ┆ u32    │\n",
       "╞══════════════════╪════════╡\n",
       "│ Tomate Grande    ┆ 149    │\n",
       "│ Tomate Pequeno   ┆ 1638   │\n",
       "│ Tomate Médio     ┆ 954    │\n",
       "└──────────────────┴────────┘"
      ]
     },
     "execution_count": 15,
     "metadata": {},
     "output_type": "execute_result"
    }
   ],
   "source": [
    "(df_csv_categorizado.select(\n",
    "    pl.col('Categoria_tomate')\n",
    ")\n",
    ".to_series()\n",
    ".value_counts())"
   ]
  },
  {
   "cell_type": "markdown",
   "metadata": {},
   "source": [
    "Descrevendo o comportamento dos \"grupos\""
   ]
  },
  {
   "cell_type": "code",
   "execution_count": 16,
   "metadata": {},
   "outputs": [
    {
     "data": {
      "text/html": [
       "<div>\n",
       "<style scoped>\n",
       "    .dataframe tbody tr th:only-of-type {\n",
       "        vertical-align: middle;\n",
       "    }\n",
       "\n",
       "    .dataframe tbody tr th {\n",
       "        vertical-align: top;\n",
       "    }\n",
       "\n",
       "    .dataframe thead tr th {\n",
       "        text-align: left;\n",
       "    }\n",
       "\n",
       "    .dataframe thead tr:last-of-type th {\n",
       "        text-align: right;\n",
       "    }\n",
       "</style>\n",
       "<table border=\"1\" class=\"dataframe\">\n",
       "  <thead>\n",
       "    <tr>\n",
       "      <th></th>\n",
       "      <th colspan=\"8\" halign=\"left\">Minimum</th>\n",
       "      <th colspan=\"5\" halign=\"left\">Maximum</th>\n",
       "      <th colspan=\"8\" halign=\"left\">Average</th>\n",
       "    </tr>\n",
       "    <tr>\n",
       "      <th></th>\n",
       "      <th>count</th>\n",
       "      <th>mean</th>\n",
       "      <th>std</th>\n",
       "      <th>min</th>\n",
       "      <th>25%</th>\n",
       "      <th>50%</th>\n",
       "      <th>75%</th>\n",
       "      <th>max</th>\n",
       "      <th>count</th>\n",
       "      <th>mean</th>\n",
       "      <th>...</th>\n",
       "      <th>75%</th>\n",
       "      <th>max</th>\n",
       "      <th>count</th>\n",
       "      <th>mean</th>\n",
       "      <th>std</th>\n",
       "      <th>min</th>\n",
       "      <th>25%</th>\n",
       "      <th>50%</th>\n",
       "      <th>75%</th>\n",
       "      <th>max</th>\n",
       "    </tr>\n",
       "    <tr>\n",
       "      <th>Categoria_tomate</th>\n",
       "      <th></th>\n",
       "      <th></th>\n",
       "      <th></th>\n",
       "      <th></th>\n",
       "      <th></th>\n",
       "      <th></th>\n",
       "      <th></th>\n",
       "      <th></th>\n",
       "      <th></th>\n",
       "      <th></th>\n",
       "      <th></th>\n",
       "      <th></th>\n",
       "      <th></th>\n",
       "      <th></th>\n",
       "      <th></th>\n",
       "      <th></th>\n",
       "      <th></th>\n",
       "      <th></th>\n",
       "      <th></th>\n",
       "      <th></th>\n",
       "      <th></th>\n",
       "    </tr>\n",
       "  </thead>\n",
       "  <tbody>\n",
       "    <tr>\n",
       "      <th>Tomate Grande</th>\n",
       "      <td>149.0</td>\n",
       "      <td>75.744966</td>\n",
       "      <td>7.324666</td>\n",
       "      <td>65.0</td>\n",
       "      <td>70.0</td>\n",
       "      <td>75.0</td>\n",
       "      <td>80.0</td>\n",
       "      <td>115.0</td>\n",
       "      <td>149.0</td>\n",
       "      <td>82.583893</td>\n",
       "      <td>...</td>\n",
       "      <td>85.0</td>\n",
       "      <td>120.0</td>\n",
       "      <td>149.0</td>\n",
       "      <td>79.164430</td>\n",
       "      <td>7.367396</td>\n",
       "      <td>70.5</td>\n",
       "      <td>75.0</td>\n",
       "      <td>77.5</td>\n",
       "      <td>82.5</td>\n",
       "      <td>117.5</td>\n",
       "    </tr>\n",
       "    <tr>\n",
       "      <th>Tomate Médio</th>\n",
       "      <td>954.0</td>\n",
       "      <td>47.818658</td>\n",
       "      <td>8.203065</td>\n",
       "      <td>30.0</td>\n",
       "      <td>40.0</td>\n",
       "      <td>45.0</td>\n",
       "      <td>55.0</td>\n",
       "      <td>65.0</td>\n",
       "      <td>954.0</td>\n",
       "      <td>55.009434</td>\n",
       "      <td>...</td>\n",
       "      <td>60.0</td>\n",
       "      <td>75.0</td>\n",
       "      <td>954.0</td>\n",
       "      <td>51.414046</td>\n",
       "      <td>8.272792</td>\n",
       "      <td>40.0</td>\n",
       "      <td>45.0</td>\n",
       "      <td>50.0</td>\n",
       "      <td>57.5</td>\n",
       "      <td>70.0</td>\n",
       "    </tr>\n",
       "    <tr>\n",
       "      <th>Tomate Pequeno</th>\n",
       "      <td>1638.0</td>\n",
       "      <td>23.978022</td>\n",
       "      <td>7.175572</td>\n",
       "      <td>8.0</td>\n",
       "      <td>18.0</td>\n",
       "      <td>25.0</td>\n",
       "      <td>30.0</td>\n",
       "      <td>38.0</td>\n",
       "      <td>1638.0</td>\n",
       "      <td>29.528694</td>\n",
       "      <td>...</td>\n",
       "      <td>35.0</td>\n",
       "      <td>44.0</td>\n",
       "      <td>1638.0</td>\n",
       "      <td>26.753358</td>\n",
       "      <td>7.191735</td>\n",
       "      <td>10.0</td>\n",
       "      <td>21.5</td>\n",
       "      <td>27.5</td>\n",
       "      <td>32.5</td>\n",
       "      <td>39.5</td>\n",
       "    </tr>\n",
       "  </tbody>\n",
       "</table>\n",
       "<p>3 rows × 24 columns</p>\n",
       "</div>"
      ],
      "text/plain": [
       "                 Minimum                                                      \\\n",
       "                   count       mean       std   min   25%   50%   75%    max   \n",
       "Categoria_tomate                                                               \n",
       "Tomate Grande      149.0  75.744966  7.324666  65.0  70.0  75.0  80.0  115.0   \n",
       "Tomate Médio       954.0  47.818658  8.203065  30.0  40.0  45.0  55.0   65.0   \n",
       "Tomate Pequeno    1638.0  23.978022  7.175572   8.0  18.0  25.0  30.0   38.0   \n",
       "\n",
       "                 Maximum             ...              Average             \\\n",
       "                   count       mean  ...   75%    max   count       mean   \n",
       "Categoria_tomate                     ...                                   \n",
       "Tomate Grande      149.0  82.583893  ...  85.0  120.0   149.0  79.164430   \n",
       "Tomate Médio       954.0  55.009434  ...  60.0   75.0   954.0  51.414046   \n",
       "Tomate Pequeno    1638.0  29.528694  ...  35.0   44.0  1638.0  26.753358   \n",
       "\n",
       "                                                           \n",
       "                       std   min   25%   50%   75%    max  \n",
       "Categoria_tomate                                           \n",
       "Tomate Grande     7.367396  70.5  75.0  77.5  82.5  117.5  \n",
       "Tomate Médio      8.272792  40.0  45.0  50.0  57.5   70.0  \n",
       "Tomate Pequeno    7.191735  10.0  21.5  27.5  32.5   39.5  \n",
       "\n",
       "[3 rows x 24 columns]"
      ]
     },
     "execution_count": 16,
     "metadata": {},
     "output_type": "execute_result"
    }
   ],
   "source": [
    "df_csv_categorizado.to_pandas().groupby('Categoria_tomate').describe()"
   ]
  },
  {
   "cell_type": "markdown",
   "metadata": {},
   "source": [
    "O polars não tem uma maneira \"simples\" de fazer o describe de um agrupamento. Podemos chegar próximo de um resultado usando o código a seguir:"
   ]
  },
  {
   "cell_type": "code",
   "execution_count": 17,
   "metadata": {},
   "outputs": [
    {
     "data": {
      "text/plain": [
       "[shape: (9, 8)\n",
       " ┌────────────┬────────────┬──────┬───────────┬───────────┬───────────┬────────┬──────────────────┐\n",
       " │ describe   ┆ Date       ┆ Unit ┆ Minimum   ┆ Maximum   ┆ Average   ┆ Market ┆ Categoria_tomate │\n",
       " │ ---        ┆ ---        ┆ ---  ┆ ---       ┆ ---       ┆ ---       ┆ ---    ┆ ---              │\n",
       " │ str        ┆ str        ┆ str  ┆ f64       ┆ f64       ┆ f64       ┆ str    ┆ str              │\n",
       " ╞════════════╪════════════╪══════╪═══════════╪═══════════╪═══════════╪════════╪══════════════════╡\n",
       " │ count      ┆ 954        ┆ 954  ┆ 954.0     ┆ 954.0     ┆ 954.0     ┆ 954    ┆ 954              │\n",
       " │ null_count ┆ 0          ┆ 0    ┆ 0.0       ┆ 0.0       ┆ 0.0       ┆ 0      ┆ 0                │\n",
       " │ mean       ┆ null       ┆ null ┆ 47.818658 ┆ 55.009434 ┆ 51.414046 ┆ null   ┆ null             │\n",
       " │ std        ┆ null       ┆ null ┆ 8.203065  ┆ 8.54191   ┆ 8.272792  ┆ null   ┆ null             │\n",
       " │ min        ┆ 2013-07-12 ┆ Kg   ┆ 30.0      ┆ 42.0      ┆ 40.0      ┆ Tomato ┆ Tomate Médio     │\n",
       " │ 25%        ┆ null       ┆ null ┆ 40.0      ┆ 50.0      ┆ 45.0      ┆ null   ┆ null             │\n",
       " │ 50%        ┆ null       ┆ null ┆ 45.0      ┆ 55.0      ┆ 50.0      ┆ null   ┆ null             │\n",
       " │ 75%        ┆ null       ┆ null ┆ 55.0      ┆ 60.0      ┆ 57.5      ┆ null   ┆ null             │\n",
       " │ max        ┆ 2021-04-04 ┆ Kg   ┆ 65.0      ┆ 75.0      ┆ 70.0      ┆ Tomato ┆ Tomate Médio     │\n",
       " └────────────┴────────────┴──────┴───────────┴───────────┴───────────┴────────┴──────────────────┘,\n",
       " shape: (9, 8)\n",
       " ┌────────────┬────────────┬──────┬───────────┬───────────┬───────────┬────────┬──────────────────┐\n",
       " │ describe   ┆ Date       ┆ Unit ┆ Minimum   ┆ Maximum   ┆ Average   ┆ Market ┆ Categoria_tomate │\n",
       " │ ---        ┆ ---        ┆ ---  ┆ ---       ┆ ---       ┆ ---       ┆ ---    ┆ ---              │\n",
       " │ str        ┆ str        ┆ str  ┆ f64       ┆ f64       ┆ f64       ┆ str    ┆ str              │\n",
       " ╞════════════╪════════════╪══════╪═══════════╪═══════════╪═══════════╪════════╪══════════════════╡\n",
       " │ count      ┆ 1638       ┆ 1638 ┆ 1638.0    ┆ 1638.0    ┆ 1638.0    ┆ 1638   ┆ 1638             │\n",
       " │ null_count ┆ 0          ┆ 0    ┆ 0.0       ┆ 0.0       ┆ 0.0       ┆ 0      ┆ 0                │\n",
       " │ mean       ┆ null       ┆ null ┆ 23.978022 ┆ 29.528694 ┆ 26.753358 ┆ null   ┆ null             │\n",
       " │ std        ┆ null       ┆ null ┆ 7.175572  ┆ 7.323327  ┆ 7.191735  ┆ null   ┆ null             │\n",
       " │ min        ┆ 2013-06-16 ┆ Kg   ┆ 8.0       ┆ 12.0      ┆ 10.0      ┆ Tomato ┆ Tomate Pequeno   │\n",
       " │ 25%        ┆ null       ┆ null ┆ 18.0      ┆ 25.0      ┆ 21.5      ┆ null   ┆ null             │\n",
       " │ 50%        ┆ null       ┆ null ┆ 25.0      ┆ 30.0      ┆ 27.5      ┆ null   ┆ null             │\n",
       " │ 75%        ┆ null       ┆ null ┆ 30.0      ┆ 35.0      ┆ 32.5      ┆ null   ┆ null             │\n",
       " │ max        ┆ 2021-05-13 ┆ Kg   ┆ 38.0      ┆ 44.0      ┆ 39.5      ┆ Tomato ┆ Tomate Pequeno   │\n",
       " └────────────┴────────────┴──────┴───────────┴───────────┴───────────┴────────┴──────────────────┘,\n",
       " shape: (9, 8)\n",
       " ┌────────────┬────────────┬──────┬───────────┬───────────┬──────────┬────────┬──────────────────┐\n",
       " │ describe   ┆ Date       ┆ Unit ┆ Minimum   ┆ Maximum   ┆ Average  ┆ Market ┆ Categoria_tomate │\n",
       " │ ---        ┆ ---        ┆ ---  ┆ ---       ┆ ---       ┆ ---      ┆ ---    ┆ ---              │\n",
       " │ str        ┆ str        ┆ str  ┆ f64       ┆ f64       ┆ f64      ┆ str    ┆ str              │\n",
       " ╞════════════╪════════════╪══════╪═══════════╪═══════════╪══════════╪════════╪══════════════════╡\n",
       " │ count      ┆ 149        ┆ 149  ┆ 149.0     ┆ 149.0     ┆ 149.0    ┆ 149    ┆ 149              │\n",
       " │ null_count ┆ 0          ┆ 0    ┆ 0.0       ┆ 0.0       ┆ 0.0      ┆ 0      ┆ 0                │\n",
       " │ mean       ┆ null       ┆ null ┆ 75.744966 ┆ 82.583893 ┆ 79.16443 ┆ null   ┆ null             │\n",
       " │ std        ┆ null       ┆ null ┆ 7.324666  ┆ 7.62207   ┆ 7.367396 ┆ null   ┆ null             │\n",
       " │ min        ┆ 2013-10-09 ┆ Kg   ┆ 65.0      ┆ 73.0      ┆ 70.5     ┆ Tomato ┆ Tomate Grande    │\n",
       " │ 25%        ┆ null       ┆ null ┆ 70.0      ┆ 80.0      ┆ 75.0     ┆ null   ┆ null             │\n",
       " │ 50%        ┆ null       ┆ null ┆ 75.0      ┆ 80.0      ┆ 77.5     ┆ null   ┆ null             │\n",
       " │ 75%        ┆ null       ┆ null ┆ 80.0      ┆ 85.0      ┆ 82.5     ┆ null   ┆ null             │\n",
       " │ max        ┆ 2020-10-27 ┆ Kg   ┆ 115.0     ┆ 120.0     ┆ 117.5    ┆ Tomato ┆ Tomate Grande    │\n",
       " └────────────┴────────────┴──────┴───────────┴───────────┴──────────┴────────┴──────────────────┘]"
      ]
     },
     "execution_count": 17,
     "metadata": {},
     "output_type": "execute_result"
    }
   ],
   "source": [
    "[x.describe() for _,x in df_csv_categorizado.group_by(\"Categoria_tomate\")]"
   ]
  },
  {
   "cell_type": "markdown",
   "metadata": {},
   "source": [
    "Filtrando todos os tomates menores que 40"
   ]
  },
  {
   "cell_type": "code",
   "execution_count": 18,
   "metadata": {},
   "outputs": [
    {
     "data": {
      "text/html": [
       "<div><style>\n",
       ".dataframe > thead > tr > th,\n",
       ".dataframe > tbody > tr > td {\n",
       "  text-align: right;\n",
       "  white-space: pre-wrap;\n",
       "}\n",
       "</style>\n",
       "<small>shape: (9, 8)</small><table border=\"1\" class=\"dataframe\"><thead><tr><th>describe</th><th>Date</th><th>Unit</th><th>Minimum</th><th>Maximum</th><th>Average</th><th>Market</th><th>Categoria_tomate</th></tr><tr><td>str</td><td>str</td><td>str</td><td>f64</td><td>f64</td><td>f64</td><td>str</td><td>str</td></tr></thead><tbody><tr><td>&quot;count&quot;</td><td>&quot;1638&quot;</td><td>&quot;1638&quot;</td><td>1638.0</td><td>1638.0</td><td>1638.0</td><td>&quot;1638&quot;</td><td>&quot;1638&quot;</td></tr><tr><td>&quot;null_count&quot;</td><td>&quot;0&quot;</td><td>&quot;0&quot;</td><td>0.0</td><td>0.0</td><td>0.0</td><td>&quot;0&quot;</td><td>&quot;0&quot;</td></tr><tr><td>&quot;mean&quot;</td><td>null</td><td>null</td><td>23.978022</td><td>29.528694</td><td>26.753358</td><td>null</td><td>null</td></tr><tr><td>&quot;std&quot;</td><td>null</td><td>null</td><td>7.175572</td><td>7.323327</td><td>7.191735</td><td>null</td><td>null</td></tr><tr><td>&quot;min&quot;</td><td>&quot;2013-06-16&quot;</td><td>&quot;Kg&quot;</td><td>8.0</td><td>12.0</td><td>10.0</td><td>&quot;Tomato&quot;</td><td>&quot;Tomate Pequeno…</td></tr><tr><td>&quot;25%&quot;</td><td>null</td><td>null</td><td>18.0</td><td>25.0</td><td>21.5</td><td>null</td><td>null</td></tr><tr><td>&quot;50%&quot;</td><td>null</td><td>null</td><td>25.0</td><td>30.0</td><td>27.5</td><td>null</td><td>null</td></tr><tr><td>&quot;75%&quot;</td><td>null</td><td>null</td><td>30.0</td><td>35.0</td><td>32.5</td><td>null</td><td>null</td></tr><tr><td>&quot;max&quot;</td><td>&quot;2021-05-13&quot;</td><td>&quot;Kg&quot;</td><td>38.0</td><td>44.0</td><td>39.5</td><td>&quot;Tomato&quot;</td><td>&quot;Tomate Pequeno…</td></tr></tbody></table></div>"
      ],
      "text/plain": [
       "shape: (9, 8)\n",
       "┌────────────┬────────────┬──────┬───────────┬───────────┬───────────┬────────┬──────────────────┐\n",
       "│ describe   ┆ Date       ┆ Unit ┆ Minimum   ┆ Maximum   ┆ Average   ┆ Market ┆ Categoria_tomate │\n",
       "│ ---        ┆ ---        ┆ ---  ┆ ---       ┆ ---       ┆ ---       ┆ ---    ┆ ---              │\n",
       "│ str        ┆ str        ┆ str  ┆ f64       ┆ f64       ┆ f64       ┆ str    ┆ str              │\n",
       "╞════════════╪════════════╪══════╪═══════════╪═══════════╪═══════════╪════════╪══════════════════╡\n",
       "│ count      ┆ 1638       ┆ 1638 ┆ 1638.0    ┆ 1638.0    ┆ 1638.0    ┆ 1638   ┆ 1638             │\n",
       "│ null_count ┆ 0          ┆ 0    ┆ 0.0       ┆ 0.0       ┆ 0.0       ┆ 0      ┆ 0                │\n",
       "│ mean       ┆ null       ┆ null ┆ 23.978022 ┆ 29.528694 ┆ 26.753358 ┆ null   ┆ null             │\n",
       "│ std        ┆ null       ┆ null ┆ 7.175572  ┆ 7.323327  ┆ 7.191735  ┆ null   ┆ null             │\n",
       "│ min        ┆ 2013-06-16 ┆ Kg   ┆ 8.0       ┆ 12.0      ┆ 10.0      ┆ Tomato ┆ Tomate Pequeno   │\n",
       "│ 25%        ┆ null       ┆ null ┆ 18.0      ┆ 25.0      ┆ 21.5      ┆ null   ┆ null             │\n",
       "│ 50%        ┆ null       ┆ null ┆ 25.0      ┆ 30.0      ┆ 27.5      ┆ null   ┆ null             │\n",
       "│ 75%        ┆ null       ┆ null ┆ 30.0      ┆ 35.0      ┆ 32.5      ┆ null   ┆ null             │\n",
       "│ max        ┆ 2021-05-13 ┆ Kg   ┆ 38.0      ┆ 44.0      ┆ 39.5      ┆ Tomato ┆ Tomate Pequeno   │\n",
       "└────────────┴────────────┴──────┴───────────┴───────────┴───────────┴────────┴──────────────────┘"
      ]
     },
     "execution_count": 18,
     "metadata": {},
     "output_type": "execute_result"
    }
   ],
   "source": [
    "df_csv_categorizado.filter(\n",
    "    pl.col('Average') < 40\n",
    ").describe()"
   ]
  },
  {
   "cell_type": "markdown",
   "metadata": {},
   "source": [
    "## Parte 3 e 4 - Manipulando Arrays com Numpy"
   ]
  },
  {
   "cell_type": "code",
   "execution_count": 19,
   "metadata": {},
   "outputs": [
    {
     "data": {
      "text/plain": [
       "array([0, 1, 2, 3, 4, 5, 6, 7, 8, 9])"
      ]
     },
     "execution_count": 19,
     "metadata": {},
     "output_type": "execute_result"
    }
   ],
   "source": [
    "arr_list = np.array([0,1,2,3,4,5,6,7,8,9])\n",
    "arr_list"
   ]
  },
  {
   "cell_type": "code",
   "execution_count": 20,
   "metadata": {},
   "outputs": [
    {
     "data": {
      "text/plain": [
       "array([[0., 0., 0., 0., 0., 0.],\n",
       "       [0., 0., 0., 0., 0., 0.],\n",
       "       [0., 0., 0., 0., 0., 0.],\n",
       "       [0., 0., 0., 0., 0., 0.]])"
      ]
     },
     "execution_count": 20,
     "metadata": {},
     "output_type": "execute_result"
    }
   ],
   "source": [
    "arr_zeros = np.zeros((4, 6))\n",
    "arr_zeros"
   ]
  },
  {
   "cell_type": "code",
   "execution_count": 21,
   "metadata": {},
   "outputs": [
    {
     "data": {
      "text/plain": [
       "array([[1., 1., 1., 1.],\n",
       "       [1., 1., 1., 1.],\n",
       "       [1., 1., 1., 1.]])"
      ]
     },
     "execution_count": 21,
     "metadata": {},
     "output_type": "execute_result"
    }
   ],
   "source": [
    "arr_ones = np.ones((3, 4))\n",
    "arr_ones"
   ]
  },
  {
   "cell_type": "code",
   "execution_count": 22,
   "metadata": {},
   "outputs": [
    {
     "data": {
      "text/plain": [
       "array([[0.89358746, 0.03085997, 0.89266416, 0.3500653 ],\n",
       "       [0.1878931 , 0.70249915, 0.79714749, 0.61049615],\n",
       "       [0.6048085 , 0.87656337, 0.95970061, 0.12863052]])"
      ]
     },
     "execution_count": 22,
     "metadata": {},
     "output_type": "execute_result"
    }
   ],
   "source": [
    "arr_random = np.random.rand(3, 4)\n",
    "arr_random"
   ]
  },
  {
   "cell_type": "markdown",
   "metadata": {},
   "source": [
    "Em versões mais recentes do numpy uma nova forma de gerar números aleatórios foi implementada.\n",
    "\n",
    "Ref: [Stackoverflow - np.random.rand vs np.random.random](https://stackoverflow.com/questions/47231852/np-random-rand-vs-np-random-random)"
   ]
  },
  {
   "cell_type": "code",
   "execution_count": 23,
   "metadata": {},
   "outputs": [
    {
     "data": {
      "text/plain": [
       "array([[0.77395605, 0.43887844, 0.85859792, 0.69736803],\n",
       "       [0.09417735, 0.97562235, 0.7611397 , 0.78606431],\n",
       "       [0.12811363, 0.45038594, 0.37079802, 0.92676499]])"
      ]
     },
     "execution_count": 23,
     "metadata": {},
     "output_type": "execute_result"
    }
   ],
   "source": [
    "random_gen = np.random.default_rng(42)\n",
    "arr_random_new = random_gen.random((3, 4))\n",
    "arr_random_new"
   ]
  },
  {
   "cell_type": "markdown",
   "metadata": {},
   "source": [
    "É possível gerar uma matriz de números aleatórios e definir as margens superiores e inferiores (min e max)"
   ]
  },
  {
   "cell_type": "code",
   "execution_count": 24,
   "metadata": {},
   "outputs": [
    {
     "data": {
      "text/plain": [
       "array([[5.77395605, 5.43887844, 5.85859792, 5.69736803],\n",
       "       [5.09417735, 5.97562235, 5.7611397 , 5.78606431],\n",
       "       [5.12811363, 5.45038594, 5.37079802, 5.92676499]])"
      ]
     },
     "execution_count": 24,
     "metadata": {},
     "output_type": "execute_result"
    }
   ],
   "source": [
    "random_gen = np.random.default_rng(42)\n",
    "arr_random_new = random_gen.uniform(5, 6, size=(3,4))\n",
    "arr_random_new"
   ]
  },
  {
   "cell_type": "code",
   "execution_count": 25,
   "metadata": {},
   "outputs": [
    {
     "data": {
      "text/plain": [
       "(3, 4)"
      ]
     },
     "execution_count": 25,
     "metadata": {},
     "output_type": "execute_result"
    }
   ],
   "source": [
    "arr_random_new.shape"
   ]
  },
  {
   "cell_type": "markdown",
   "metadata": {},
   "source": [
    "Podemos alterar o formato do array (sempre preservando o número de elementos)"
   ]
  },
  {
   "cell_type": "code",
   "execution_count": 26,
   "metadata": {},
   "outputs": [
    {
     "data": {
      "text/plain": [
       "array([[5.77395605, 5.43887844],\n",
       "       [5.85859792, 5.69736803],\n",
       "       [5.09417735, 5.97562235],\n",
       "       [5.7611397 , 5.78606431],\n",
       "       [5.12811363, 5.45038594],\n",
       "       [5.37079802, 5.92676499]])"
      ]
     },
     "execution_count": 26,
     "metadata": {},
     "output_type": "execute_result"
    }
   ],
   "source": [
    "arr_random_reshape = arr_random_new.reshape(6, 2)\n",
    "arr_random_reshape"
   ]
  },
  {
   "cell_type": "markdown",
   "metadata": {},
   "source": [
    "É possível fazer a concatenação de arrays. O Axis igual a 1 irá concatenar os arrays no sentido horizontal e Axis igual a 0 irá concatenar no sentido vertical"
   ]
  },
  {
   "cell_type": "code",
   "execution_count": 27,
   "metadata": {},
   "outputs": [
    {
     "data": {
      "text/plain": [
       "array([[ 1,  2,  5,  6,  9, 10],\n",
       "       [ 3,  4,  7,  8, 11, 12]])"
      ]
     },
     "execution_count": 27,
     "metadata": {},
     "output_type": "execute_result"
    }
   ],
   "source": [
    "arr1 = np.array([[1,2],[3, 4]])\n",
    "arr2 = np.array([[5,6],[7, 8]])\n",
    "arr3 = np.array([[9,10],[11, 12]])\n",
    "\n",
    "arr_concat_h = np.concatenate((arr1, arr2, arr3), axis=1)\n",
    "arr_concat_h"
   ]
  },
  {
   "cell_type": "code",
   "execution_count": 28,
   "metadata": {},
   "outputs": [
    {
     "data": {
      "text/plain": [
       "array([[ 1,  2],\n",
       "       [ 3,  4],\n",
       "       [ 5,  6],\n",
       "       [ 7,  8],\n",
       "       [ 9, 10],\n",
       "       [11, 12]])"
      ]
     },
     "execution_count": 28,
     "metadata": {},
     "output_type": "execute_result"
    }
   ],
   "source": [
    "arr_concat_v = np.concatenate((arr1, arr2, arr3), axis=0)\n",
    "arr_concat_v"
   ]
  },
  {
   "cell_type": "markdown",
   "metadata": {},
   "source": [
    "Para separar o array podemos usar o método split"
   ]
  },
  {
   "cell_type": "code",
   "execution_count": 29,
   "metadata": {},
   "outputs": [
    {
     "data": {
      "text/plain": [
       "[array([[ 1,  2,  5,  6,  9, 10]]), array([[ 3,  4,  7,  8, 11, 12]])]"
      ]
     },
     "execution_count": 29,
     "metadata": {},
     "output_type": "execute_result"
    }
   ],
   "source": [
    "arr_split = np.split(arr_concat_h, 2, axis=0)\n",
    "arr_split"
   ]
  },
  {
   "cell_type": "markdown",
   "metadata": {},
   "source": [
    "Podemos fazer a transposição dos arrays"
   ]
  },
  {
   "cell_type": "code",
   "execution_count": 30,
   "metadata": {},
   "outputs": [
    {
     "name": "stdout",
     "output_type": "stream",
     "text": [
      "[[ 1  2  5  6  9 10]\n",
      " [ 3  4  7  8 11 12]]\n"
     ]
    },
    {
     "data": {
      "text/plain": [
       "array([[ 1,  3],\n",
       "       [ 2,  4],\n",
       "       [ 5,  7],\n",
       "       [ 6,  8],\n",
       "       [ 9, 11],\n",
       "       [10, 12]])"
      ]
     },
     "execution_count": 30,
     "metadata": {},
     "output_type": "execute_result"
    }
   ],
   "source": [
    "print(arr_concat_h)\n",
    "arr_concat_h.transpose()"
   ]
  },
  {
   "cell_type": "markdown",
   "metadata": {},
   "source": [
    "Podemos usar o \"atalho\" .T para fazer a transposição"
   ]
  },
  {
   "cell_type": "code",
   "execution_count": 31,
   "metadata": {},
   "outputs": [
    {
     "data": {
      "text/plain": [
       "array([[ 1,  3],\n",
       "       [ 2,  4],\n",
       "       [ 5,  7],\n",
       "       [ 6,  8],\n",
       "       [ 9, 11],\n",
       "       [10, 12]])"
      ]
     },
     "execution_count": 31,
     "metadata": {},
     "output_type": "execute_result"
    }
   ],
   "source": [
    "arr_concat_h.T"
   ]
  },
  {
   "cell_type": "markdown",
   "metadata": {},
   "source": [
    "É possível fazer operações matemáticas com Arrays"
   ]
  },
  {
   "cell_type": "code",
   "execution_count": 32,
   "metadata": {},
   "outputs": [
    {
     "name": "stdout",
     "output_type": "stream",
     "text": [
      "Array A:\n",
      " [[9 8 3 1]\n",
      " [3 6 0 7]]\n",
      "Array B:\n",
      " [[5 8 7 0]\n",
      " [2 4 4 8]]\n"
     ]
    }
   ],
   "source": [
    "arr_a = np.random.randint(0, 10, size=(2, 4))\n",
    "arr_b = np.random.randint(0, 10, size=(2, 4))\n",
    "\n",
    "print(f\"Array A:\\n {arr_a}\")\n",
    "print(f\"Array B:\\n {arr_b}\")"
   ]
  },
  {
   "cell_type": "code",
   "execution_count": 33,
   "metadata": {},
   "outputs": [
    {
     "data": {
      "text/plain": [
       "array([[14, 16, 10,  1],\n",
       "       [ 5, 10,  4, 15]])"
      ]
     },
     "execution_count": 33,
     "metadata": {},
     "output_type": "execute_result"
    }
   ],
   "source": [
    "arr_add = np.add(arr_a, arr_b) # outra opção: arr_a + arr_b\n",
    "arr_add"
   ]
  },
  {
   "cell_type": "code",
   "execution_count": 34,
   "metadata": {},
   "outputs": [
    {
     "data": {
      "text/plain": [
       "array([[ 4,  0, -4,  1],\n",
       "       [ 1,  2, -4, -1]])"
      ]
     },
     "execution_count": 34,
     "metadata": {},
     "output_type": "execute_result"
    }
   ],
   "source": [
    "arr_sub = np.subtract(arr_a, arr_b) # outra opção: arr_a - arr_b\n",
    "arr_sub"
   ]
  },
  {
   "cell_type": "markdown",
   "metadata": {},
   "source": [
    "## Parte 5, 6 e 7 - Gerando gráficos com Matplotlib"
   ]
  },
  {
   "cell_type": "code",
   "execution_count": 36,
   "metadata": {},
   "outputs": [
    {
     "data": {
      "text/html": [
       "<div><style>\n",
       ".dataframe > thead > tr > th,\n",
       ".dataframe > tbody > tr > td {\n",
       "  text-align: right;\n",
       "  white-space: pre-wrap;\n",
       "}\n",
       "</style>\n",
       "<small>shape: (5, 6)</small><table border=\"1\" class=\"dataframe\"><thead><tr><th>Date</th><th>Unit</th><th>Minimum</th><th>Maximum</th><th>Average</th><th>Market</th></tr><tr><td>str</td><td>str</td><td>i64</td><td>i64</td><td>f64</td><td>str</td></tr></thead><tbody><tr><td>&quot;2013-06-16&quot;</td><td>&quot;Kg&quot;</td><td>26</td><td>32</td><td>29.0</td><td>&quot;Tomato&quot;</td></tr><tr><td>&quot;2013-06-17&quot;</td><td>&quot;Kg&quot;</td><td>20</td><td>25</td><td>22.5</td><td>&quot;Tomato&quot;</td></tr><tr><td>&quot;2013-06-18&quot;</td><td>&quot;Kg&quot;</td><td>22</td><td>26</td><td>24.0</td><td>&quot;Tomato&quot;</td></tr><tr><td>&quot;2013-06-19&quot;</td><td>&quot;Kg&quot;</td><td>24</td><td>28</td><td>26.0</td><td>&quot;Tomato&quot;</td></tr><tr><td>&quot;2013-06-20&quot;</td><td>&quot;Kg&quot;</td><td>22</td><td>26</td><td>24.0</td><td>&quot;Tomato&quot;</td></tr></tbody></table></div>"
      ],
      "text/plain": [
       "shape: (5, 6)\n",
       "┌────────────┬──────┬─────────┬─────────┬─────────┬────────┐\n",
       "│ Date       ┆ Unit ┆ Minimum ┆ Maximum ┆ Average ┆ Market │\n",
       "│ ---        ┆ ---  ┆ ---     ┆ ---     ┆ ---     ┆ ---    │\n",
       "│ str        ┆ str  ┆ i64     ┆ i64     ┆ f64     ┆ str    │\n",
       "╞════════════╪══════╪═════════╪═════════╪═════════╪════════╡\n",
       "│ 2013-06-16 ┆ Kg   ┆ 26      ┆ 32      ┆ 29.0    ┆ Tomato │\n",
       "│ 2013-06-17 ┆ Kg   ┆ 20      ┆ 25      ┆ 22.5    ┆ Tomato │\n",
       "│ 2013-06-18 ┆ Kg   ┆ 22      ┆ 26      ┆ 24.0    ┆ Tomato │\n",
       "│ 2013-06-19 ┆ Kg   ┆ 24      ┆ 28      ┆ 26.0    ┆ Tomato │\n",
       "│ 2013-06-20 ┆ Kg   ┆ 22      ┆ 26      ┆ 24.0    ┆ Tomato │\n",
       "└────────────┴──────┴─────────┴─────────┴─────────┴────────┘"
      ]
     },
     "execution_count": 36,
     "metadata": {},
     "output_type": "execute_result"
    }
   ],
   "source": [
    "df_tomato = df_csv.clone()\n",
    "df_tomato.head()"
   ]
  },
  {
   "cell_type": "markdown",
   "metadata": {},
   "source": [
    "A coluna Date está no formato de string, precisamos transformalo em Date para criar um gráfico com base nessas datas"
   ]
  },
  {
   "cell_type": "code",
   "execution_count": 38,
   "metadata": {},
   "outputs": [],
   "source": [
    "df_tomato = (\n",
    "    df_tomato.select(\n",
    "        pl.col('Date').cast(pl.Date),\n",
    "        pl.all().exclude('Date')\n",
    "    )\n",
    ")"
   ]
  },
  {
   "cell_type": "code",
   "execution_count": 39,
   "metadata": {},
   "outputs": [
    {
     "data": {
      "text/html": [
       "<div><style>\n",
       ".dataframe > thead > tr > th,\n",
       ".dataframe > tbody > tr > td {\n",
       "  text-align: right;\n",
       "  white-space: pre-wrap;\n",
       "}\n",
       "</style>\n",
       "<small>shape: (5, 6)</small><table border=\"1\" class=\"dataframe\"><thead><tr><th>Date</th><th>Unit</th><th>Minimum</th><th>Maximum</th><th>Average</th><th>Market</th></tr><tr><td>date</td><td>str</td><td>i64</td><td>i64</td><td>f64</td><td>str</td></tr></thead><tbody><tr><td>2013-06-16</td><td>&quot;Kg&quot;</td><td>26</td><td>32</td><td>29.0</td><td>&quot;Tomato&quot;</td></tr><tr><td>2013-06-17</td><td>&quot;Kg&quot;</td><td>20</td><td>25</td><td>22.5</td><td>&quot;Tomato&quot;</td></tr><tr><td>2013-06-18</td><td>&quot;Kg&quot;</td><td>22</td><td>26</td><td>24.0</td><td>&quot;Tomato&quot;</td></tr><tr><td>2013-06-19</td><td>&quot;Kg&quot;</td><td>24</td><td>28</td><td>26.0</td><td>&quot;Tomato&quot;</td></tr><tr><td>2013-06-20</td><td>&quot;Kg&quot;</td><td>22</td><td>26</td><td>24.0</td><td>&quot;Tomato&quot;</td></tr></tbody></table></div>"
      ],
      "text/plain": [
       "shape: (5, 6)\n",
       "┌────────────┬──────┬─────────┬─────────┬─────────┬────────┐\n",
       "│ Date       ┆ Unit ┆ Minimum ┆ Maximum ┆ Average ┆ Market │\n",
       "│ ---        ┆ ---  ┆ ---     ┆ ---     ┆ ---     ┆ ---    │\n",
       "│ date       ┆ str  ┆ i64     ┆ i64     ┆ f64     ┆ str    │\n",
       "╞════════════╪══════╪═════════╪═════════╪═════════╪════════╡\n",
       "│ 2013-06-16 ┆ Kg   ┆ 26      ┆ 32      ┆ 29.0    ┆ Tomato │\n",
       "│ 2013-06-17 ┆ Kg   ┆ 20      ┆ 25      ┆ 22.5    ┆ Tomato │\n",
       "│ 2013-06-18 ┆ Kg   ┆ 22      ┆ 26      ┆ 24.0    ┆ Tomato │\n",
       "│ 2013-06-19 ┆ Kg   ┆ 24      ┆ 28      ┆ 26.0    ┆ Tomato │\n",
       "│ 2013-06-20 ┆ Kg   ┆ 22      ┆ 26      ┆ 24.0    ┆ Tomato │\n",
       "└────────────┴──────┴─────────┴─────────┴─────────┴────────┘"
      ]
     },
     "execution_count": 39,
     "metadata": {},
     "output_type": "execute_result"
    }
   ],
   "source": [
    "df_tomato.head()"
   ]
  },
  {
   "cell_type": "markdown",
   "metadata": {},
   "source": [
    "Vamos plotar o valor da coluna `Average` ao longo do tempo"
   ]
  },
  {
   "cell_type": "code",
   "execution_count": 44,
   "metadata": {},
   "outputs": [
    {
     "data": {
      "text/plain": [
       "Text(0.5, 1.0, 'Peso médio dos tomates ao longo do tempo')"
      ]
     },
     "execution_count": 44,
     "metadata": {},
     "output_type": "execute_result"
    },
    {
     "data": {
      "image/png": "[encoded data removed]",
      "text/plain": [
       "<Figure size 1000x500 with 1 Axes>"
      ]
     },
     "metadata": {},
     "output_type": "display_data"
    }
   ],
   "source": [
    "plt.figure(figsize=(10, 5))\n",
    "plt.plot(df_tomato['Date'], df_tomato['Average'])\n",
    "plt.xlabel('Data')\n",
    "plt.ylabel('Média (Kg)')\n",
    "plt.title('Peso médio dos tomates ao longo do tempo')"
   ]
  },
  {
   "cell_type": "markdown",
   "metadata": {},
   "source": [
    "Podemos fazer um gráfico de dispersão, que é um gráfico comumente usado para verificar a correlação entre duas variáveis"
   ]
  },
  {
   "cell_type": "code",
   "execution_count": 47,
   "metadata": {},
   "outputs": [
    {
     "data": {
      "text/plain": [
       "Text(0.5, 1.0, 'Gráfico de dispersão entre black_rating e white_rating')"
      ]
     },
     "execution_count": 47,
     "metadata": {},
     "output_type": "execute_result"
    },
    {
     "data": {
      "image/png": "[encoded data removed]",
      "text/plain": [
       "<Figure size 1000x500 with 1 Axes>"
      ]
     },
     "metadata": {},
     "output_type": "display_data"
    }
   ],
   "source": [
    "plt.figure(figsize=(10, 5))\n",
    "plt.scatter(df_excel['black_rating'], df_excel['white_rating'])\n",
    "plt.xlabel('Black Rating')\n",
    "plt.ylabel('White Rating')\n",
    "plt.title('Gráfico de dispersão entre black_rating e white_rating')"
   ]
  },
  {
   "cell_type": "markdown",
   "metadata": {},
   "source": [
    "Outro tipo de gráfico muito usado é o gráfico de barras, que é usado para comparar valores entre diferentes categorias"
   ]
  },
  {
   "cell_type": "code",
   "execution_count": 52,
   "metadata": {},
   "outputs": [
    {
     "data": {
      "text/plain": [
       "Text(0.5, 1.0, 'Peso médio dos tomates por categoria')"
      ]
     },
     "execution_count": 52,
     "metadata": {},
     "output_type": "execute_result"
    },
    {
     "data": {
      "image/png": "[encoded data removed]",
      "text/plain": [
       "<Figure size 1000x500 with 1 Axes>"
      ]
     },
     "metadata": {},
     "output_type": "display_data"
    }
   ],
   "source": [
    "df_tomato = df_csv_categorizado.clone()\n",
    "plt.figure(figsize=(10, 5))\n",
    "plt.bar(df_tomato['Categoria_tomate'], df_tomato['Average'])\n",
    "plt.xlabel('Categoria do tomate')\n",
    "plt.ylabel('Média (Kg)')\n",
    "plt.title('Peso médio dos tomates por categoria')"
   ]
  },
  {
   "cell_type": "markdown",
   "metadata": {},
   "source": [
    "No código acima acabamos criando um gráfico que traz o valor máximo de cata categoria na coluna `Average` (como podemos ver na tabela abaixo e no gráfico gerado para visualizarmos a sobreposição).\n",
    "\n",
    "Isso acontece por que o matplotlib criará barras separadas para cada categoria repetida. As categorias repetidas serão tratadas como categorias individuais, e as barras correspondentes serão empilhadas umas sobre as outras no mesmo local no gráfico de barras."
   ]
  },
  {
   "cell_type": "code",
   "execution_count": 85,
   "metadata": {},
   "outputs": [
    {
     "name": "stdout",
     "output_type": "stream",
     "text": [
      "shape: (3, 2)\n",
      "┌──────────────────┬─────────┐\n",
      "│ Categoria_tomate ┆ Average │\n",
      "│ ---              ┆ ---     │\n",
      "│ str              ┆ f64     │\n",
      "╞══════════════════╪═════════╡\n",
      "│ Tomate Grande    ┆ 117.5   │\n",
      "│ Tomate Pequeno   ┆ 39.5    │\n",
      "│ Tomate Médio     ┆ 70.0    │\n",
      "└──────────────────┴─────────┘\n"
     ]
    },
    {
     "data": {
      "text/plain": [
       "<BarContainer object of 2741 artists>"
      ]
     },
     "execution_count": 85,
     "metadata": {},
     "output_type": "execute_result"
    },
    {
     "data": {
      "image/png": "[encoded data removed]",
      "text/plain": [
       "<Figure size 640x480 with 1 Axes>"
      ]
     },
     "metadata": {},
     "output_type": "display_data"
    }
   ],
   "source": [
    "print(df_csv_categorizado.group_by('Categoria_tomate').agg(pl.max('Average')))\n",
    "cores = [(random.random(), random.random(), random.random(), 0.3) for _ in df_tomato['Categoria_tomate']]\n",
    "plt.bar(df_tomato['Categoria_tomate'], df_tomato['Average'], color=cores)"
   ]
  },
  {
   "cell_type": "markdown",
   "metadata": {},
   "source": [
    "Para plotarmos a média da coluna `Average` de cada categoria, precisamos agrupar os dados primeiro"
   ]
  },
  {
   "cell_type": "code",
   "execution_count": 87,
   "metadata": {},
   "outputs": [
    {
     "data": {
      "text/plain": [
       "Text(0.5, 1.0, 'Peso médio dos tomates por categoria')"
      ]
     },
     "execution_count": 87,
     "metadata": {},
     "output_type": "execute_result"
    },
    {
     "data": {
      "image/png": "[encoded data removed]",
      "text/plain": [
       "<Figure size 700x500 with 1 Axes>"
      ]
     },
     "metadata": {},
     "output_type": "display_data"
    }
   ],
   "source": [
    "df_aux = df_tomato.group_by('Categoria_tomate').agg(pl.median('Average'))\n",
    "\n",
    "plt.figure(figsize=(7, 5))\n",
    "plt.bar(df_aux['Categoria_tomate'], df_aux['Average'])\n",
    "plt.xlabel('Categoria do tomate')\n",
    "plt.ylabel('Média (Kg)')\n",
    "plt.title('Peso médio dos tomates por categoria')"
   ]
  },
  {
   "cell_type": "markdown",
   "metadata": {},
   "source": [
    "Um gráfico muito usado e que devemos ter cuidado ao usar e interpretar é o gráfico de pizza."
   ]
  },
  {
   "cell_type": "code",
   "execution_count": 88,
   "metadata": {},
   "outputs": [],
   "source": [
    "df_chess = df_excel.clone()"
   ]
  },
  {
   "cell_type": "code",
   "execution_count": 104,
   "metadata": {},
   "outputs": [
    {
     "data": {
      "text/plain": [
       "Text(0.5, 1.0, 'Média de partidas dentro de status de vitória')"
      ]
     },
     "execution_count": 104,
     "metadata": {},
     "output_type": "execute_result"
    },
    {
     "data": {
      "image/png": "[encoded data removed]",
      "text/plain": [
       "<Figure size 640x480 with 1 Axes>"
      ]
     },
     "metadata": {},
     "output_type": "display_data"
    }
   ],
   "source": [
    "df_chess.group_by('victory_status').agg(pl.mean('turns')).to_pandas().set_index('victory_status').plot(kind='pie', y='turns', autopct=\"%1.0f%%\")\n",
    "plt.title('Média de partidas dentro de status de vitória')"
   ]
  },
  {
   "cell_type": "markdown",
   "metadata": {},
   "source": [
    "## Parte 8 e 9 - Criando o primeiro modelo de Machine Learning"
   ]
  },
  {
   "cell_type": "code",
   "execution_count": 4,
   "metadata": {},
   "outputs": [
    {
     "data": {
      "text/html": [
       "<div><style>\n",
       ".dataframe > thead > tr > th,\n",
       ".dataframe > tbody > tr > td {\n",
       "  text-align: right;\n",
       "  white-space: pre-wrap;\n",
       "}\n",
       "</style>\n",
       "<small>shape: (5, 9)</small><table border=\"1\" class=\"dataframe\"><thead><tr><th>Number of times pregnant</th><th>Plasma glucose concentration a 2 hours in an oral glucose tolerance test</th><th>Diastolic blood pressure (mm Hg)</th><th>Triceps skin fold thickness (mm)</th><th>2-Hour serum insulin (mu U/ml)</th><th>Body mass index (weight in kg/(height in m)^2)</th><th>Diabetes pedigree function</th><th>Age (years)</th><th>Class variable</th></tr><tr><td>i64</td><td>i64</td><td>i64</td><td>i64</td><td>i64</td><td>f64</td><td>f64</td><td>i64</td><td>i64</td></tr></thead><tbody><tr><td>6</td><td>148</td><td>72</td><td>35</td><td>0</td><td>33.6</td><td>0.627</td><td>50</td><td>1</td></tr><tr><td>1</td><td>85</td><td>66</td><td>29</td><td>0</td><td>26.6</td><td>0.351</td><td>31</td><td>0</td></tr><tr><td>8</td><td>183</td><td>64</td><td>0</td><td>0</td><td>23.3</td><td>0.672</td><td>32</td><td>1</td></tr><tr><td>1</td><td>89</td><td>66</td><td>23</td><td>94</td><td>28.1</td><td>0.167</td><td>21</td><td>0</td></tr><tr><td>0</td><td>137</td><td>40</td><td>35</td><td>168</td><td>43.1</td><td>2.288</td><td>33</td><td>1</td></tr></tbody></table></div>"
      ],
      "text/plain": [
       "shape: (5, 9)\n",
       "┌───────────┬───────────┬───────────┬───────────┬───┬───────────┬───────────┬───────────┬──────────┐\n",
       "│ Number of ┆ Plasma    ┆ Diastolic ┆ Triceps   ┆ … ┆ Body mass ┆ Diabetes  ┆ Age       ┆ Class    │\n",
       "│ times     ┆ glucose   ┆ blood     ┆ skin fold ┆   ┆ index     ┆ pedigree  ┆ (years)   ┆ variable │\n",
       "│ pregnant  ┆ concentra ┆ pressure  ┆ thickness ┆   ┆ (weight   ┆ function  ┆ ---       ┆ ---      │\n",
       "│ ---       ┆ tion a 2… ┆ (mm Hg)   ┆ (mm)      ┆   ┆ in kg/(h… ┆ ---       ┆ i64       ┆ i64      │\n",
       "│ i64       ┆ ---       ┆ ---       ┆ ---       ┆   ┆ ---       ┆ f64       ┆           ┆          │\n",
       "│           ┆ i64       ┆ i64       ┆ i64       ┆   ┆ f64       ┆           ┆           ┆          │\n",
       "╞═══════════╪═══════════╪═══════════╪═══════════╪═══╪═══════════╪═══════════╪═══════════╪══════════╡\n",
       "│ 6         ┆ 148       ┆ 72        ┆ 35        ┆ … ┆ 33.6      ┆ 0.627     ┆ 50        ┆ 1        │\n",
       "│ 1         ┆ 85        ┆ 66        ┆ 29        ┆ … ┆ 26.6      ┆ 0.351     ┆ 31        ┆ 0        │\n",
       "│ 8         ┆ 183       ┆ 64        ┆ 0         ┆ … ┆ 23.3      ┆ 0.672     ┆ 32        ┆ 1        │\n",
       "│ 1         ┆ 89        ┆ 66        ┆ 23        ┆ … ┆ 28.1      ┆ 0.167     ┆ 21        ┆ 0        │\n",
       "│ 0         ┆ 137       ┆ 40        ┆ 35        ┆ … ┆ 43.1      ┆ 2.288     ┆ 33        ┆ 1        │\n",
       "└───────────┴───────────┴───────────┴───────────┴───┴───────────┴───────────┴───────────┴──────────┘"
      ]
     },
     "execution_count": 4,
     "metadata": {},
     "output_type": "execute_result"
    }
   ],
   "source": [
    "df_diabetes = pl.read_csv('data/diabetes.csv')\n",
    "df_diabetes.head()"
   ]
  },
  {
   "cell_type": "markdown",
   "metadata": {},
   "source": [
    "Para treinar um modelo de machine learning supervisionado precisamos de um conjunto de dados rotulados. As variáveis que contém as características das observações são chamadas de features, variáveis independentes ou variáveis preditoras. A variável que contém o rótulo da observação é chamada de target, variável dependente ou variável resposta.\n",
    "\n",
    "As features colocaremos na variável X e o target na variável y"
   ]
  },
  {
   "cell_type": "code",
   "execution_count": 21,
   "metadata": {},
   "outputs": [],
   "source": [
    "X = df_diabetes.select(pl.all().exclude('Class variable'))\n",
    "y = df_diabetes.select(pl.col('Class variable'))"
   ]
  },
  {
   "cell_type": "markdown",
   "metadata": {},
   "source": [
    "Agora precisamos dividir os dados em dois: uma parte chamaremos de treino e usaremos para treinar o modelo e a outra parte chamaremos de teste e usaremos para avaliar o modelo após o treino. Isso é feito para avaliarmos o poder de generalização do modelo, ou seja, se o modelo consegue generalizar o que aprendeu com os dados de treino para dados que ele nunca viu antes (representados aqui pelos dados de teste)."
   ]
  },
  {
   "cell_type": "code",
   "execution_count": 24,
   "metadata": {},
   "outputs": [],
   "source": [
    "X_train, X_test, y_train, y_test = train_test_split(X, y, test_size=0.3, random_state=42)"
   ]
  },
  {
   "cell_type": "code",
   "execution_count": 25,
   "metadata": {},
   "outputs": [
    {
     "name": "stdout",
     "output_type": "stream",
     "text": [
      "Train X (537, 8)\n",
      "Test X (231, 8)\n",
      "Train y (537, 1)\n",
      "Test y (231, 1)\n"
     ]
    }
   ],
   "source": [
    "print(f\"Train X {X_train.shape}\")\n",
    "print(f\"Test X {X_test.shape}\")\n",
    "print(f\"Train y {y_train.shape}\")\n",
    "print(f\"Test y {y_test.shape}\")"
   ]
  },
  {
   "cell_type": "markdown",
   "metadata": {},
   "source": [
    "Para fazer a classificação dos dados iremos usar o algoritmo KNN (K-Nearest Neighbors). Esse algoritmo é um algoritmo de aprendizado supervisionado que pode ser usado tanto para classificação quanto para regressão. Ele classifica as observações baseado na similaridade com as observações vizinhas. A ideia é que observações com características (features) similares devem ter a mesma classe (target)."
   ]
  },
  {
   "cell_type": "code",
   "execution_count": 30,
   "metadata": {},
   "outputs": [
    {
     "data": {
      "text/html": [
       "<style>#sk-container-id-3 {color: black;}#sk-container-id-3 pre{padding: 0;}#sk-container-id-3 div.sk-toggleable {background-color: white;}#sk-container-id-3 label.sk-toggleable__label {cursor: pointer;display: block;width: 100%;margin-bottom: 0;padding: 0.3em;box-sizing: border-box;text-align: center;}#sk-container-id-3 label.sk-toggleable__label-arrow:before {content: \"▸\";float: left;margin-right: 0.25em;color: #696969;}#sk-container-id-3 label.sk-toggleable__label-arrow:hover:before {color: black;}#sk-container-id-3 div.sk-estimator:hover label.sk-toggleable__label-arrow:before {color: black;}#sk-container-id-3 div.sk-toggleable__content {max-height: 0;max-width: 0;overflow: hidden;text-align: left;background-color: #f0f8ff;}#sk-container-id-3 div.sk-toggleable__content pre {margin: 0.2em;color: black;border-radius: 0.25em;background-color: #f0f8ff;}#sk-container-id-3 input.sk-toggleable__control:checked~div.sk-toggleable__content {max-height: 200px;max-width: 100%;overflow: auto;}#sk-container-id-3 input.sk-toggleable__control:checked~label.sk-toggleable__label-arrow:before {content: \"▾\";}#sk-container-id-3 div.sk-estimator input.sk-toggleable__control:checked~label.sk-toggleable__label {background-color: #d4ebff;}#sk-container-id-3 div.sk-label input.sk-toggleable__control:checked~label.sk-toggleable__label {background-color: #d4ebff;}#sk-container-id-3 input.sk-hidden--visually {border: 0;clip: rect(1px 1px 1px 1px);clip: rect(1px, 1px, 1px, 1px);height: 1px;margin: -1px;overflow: hidden;padding: 0;position: absolute;width: 1px;}#sk-container-id-3 div.sk-estimator {font-family: monospace;background-color: #f0f8ff;border: 1px dotted black;border-radius: 0.25em;box-sizing: border-box;margin-bottom: 0.5em;}#sk-container-id-3 div.sk-estimator:hover {background-color: #d4ebff;}#sk-container-id-3 div.sk-parallel-item::after {content: \"\";width: 100%;border-bottom: 1px solid gray;flex-grow: 1;}#sk-container-id-3 div.sk-label:hover label.sk-toggleable__label {background-color: #d4ebff;}#sk-container-id-3 div.sk-serial::before {content: \"\";position: absolute;border-left: 1px solid gray;box-sizing: border-box;top: 0;bottom: 0;left: 50%;z-index: 0;}#sk-container-id-3 div.sk-serial {display: flex;flex-direction: column;align-items: center;background-color: white;padding-right: 0.2em;padding-left: 0.2em;position: relative;}#sk-container-id-3 div.sk-item {position: relative;z-index: 1;}#sk-container-id-3 div.sk-parallel {display: flex;align-items: stretch;justify-content: center;background-color: white;position: relative;}#sk-container-id-3 div.sk-item::before, #sk-container-id-3 div.sk-parallel-item::before {content: \"\";position: absolute;border-left: 1px solid gray;box-sizing: border-box;top: 0;bottom: 0;left: 50%;z-index: -1;}#sk-container-id-3 div.sk-parallel-item {display: flex;flex-direction: column;z-index: 1;position: relative;background-color: white;}#sk-container-id-3 div.sk-parallel-item:first-child::after {align-self: flex-end;width: 50%;}#sk-container-id-3 div.sk-parallel-item:last-child::after {align-self: flex-start;width: 50%;}#sk-container-id-3 div.sk-parallel-item:only-child::after {width: 0;}#sk-container-id-3 div.sk-dashed-wrapped {border: 1px dashed gray;margin: 0 0.4em 0.5em 0.4em;box-sizing: border-box;padding-bottom: 0.4em;background-color: white;}#sk-container-id-3 div.sk-label label {font-family: monospace;font-weight: bold;display: inline-block;line-height: 1.2em;}#sk-container-id-3 div.sk-label-container {text-align: center;}#sk-container-id-3 div.sk-container {/* jupyter's `normalize.less` sets `[hidden] { display: none; }` but bootstrap.min.css set `[hidden] { display: none !important; }` so we also need the `!important` here to be able to override the default hidden behavior on the sphinx rendered scikit-learn.org. See: https://github.com/scikit-learn/scikit-learn/issues/21755 */display: inline-block !important;position: relative;}#sk-container-id-3 div.sk-text-repr-fallback {display: none;}</style><div id=\"sk-container-id-3\" class=\"sk-top-container\"><div class=\"sk-text-repr-fallback\"><pre>KNeighborsClassifier(n_neighbors=3)</pre><b>In a Jupyter environment, please rerun this cell to show the HTML representation or trust the notebook. <br />On GitHub, the HTML representation is unable to render, please try loading this page with nbviewer.org.</b></div><div class=\"sk-container\" hidden><div class=\"sk-item\"><div class=\"sk-estimator sk-toggleable\"><input class=\"sk-toggleable__control sk-hidden--visually\" id=\"sk-estimator-id-3\" type=\"checkbox\" checked><label for=\"sk-estimator-id-3\" class=\"sk-toggleable__label sk-toggleable__label-arrow\">KNeighborsClassifier</label><div class=\"sk-toggleable__content\"><pre>KNeighborsClassifier(n_neighbors=3)</pre></div></div></div></div></div>"
      ],
      "text/plain": [
       "KNeighborsClassifier(n_neighbors=3)"
      ]
     },
     "execution_count": 30,
     "metadata": {},
     "output_type": "execute_result"
    }
   ],
   "source": [
    "knn = KNeighborsClassifier(n_neighbors=3)\n",
    "knn.fit(X_train, y_train.to_numpy().ravel())"
   ]
  },
  {
   "cell_type": "markdown",
   "metadata": {},
   "source": [
    "Vamos utilizar o método `score` para calcular a acurácia (proporção de classificações corretas) do modelo"
   ]
  },
  {
   "cell_type": "code",
   "execution_count": 37,
   "metadata": {},
   "outputs": [
    {
     "name": "stdout",
     "output_type": "stream",
     "text": [
      "Acurácia treino: 84.36%\n",
      "Acurácia teste: 67.53%\n"
     ]
    }
   ],
   "source": [
    "acc_train = knn.score(X_train, y_train.to_numpy().ravel())\n",
    "acc_test = knn.score(X_test, y_test.to_numpy().ravel())\n",
    "\n",
    "print(f\"Acurácia treino: {acc_train*100:.2f}%\")\n",
    "print(f\"Acurácia teste: {acc_test*100:.2f}%\")\n"
   ]
  },
  {
   "cell_type": "code",
   "execution_count": null,
   "metadata": {},
   "outputs": [],
   "source": []
  }
 ],
 "metadata": {
  "kernelspec": {
   "display_name": ".env",
   "language": "python",
   "name": "python3"
  },
  "language_info": {
   "codemirror_mode": {
    "name": "ipython",
    "version": 3
   },
   "file_extension": ".py",
   "mimetype": "text/x-python",
   "name": "python",
   "nbconvert_exporter": "python",
   "pygments_lexer": "ipython3",
   "version": "3.10.8"
  }
 },
 "nbformat": 4,
 "nbformat_minor": 2
}
