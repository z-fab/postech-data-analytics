{
 "cells": [
  {
   "cell_type": "markdown",
   "metadata": {},
   "source": [
    "# Validação Cruzada\n",
    "\n",
    "Validação cruzada é uma técnica para avaliar a capacidade de generalização de um modelo, ou seja, sua capacidade de prever corretamente dados não vistos anteriormente.\n",
    "\n",
    "A ideia é dividir o conjunto de dados em $k$ partições, chamadas de folds, e realizar $k$ treinamentos e testes, cada um deles utilizando uma partição diferente como conjunto de teste e as demais como conjunto de treinamento. Ao final, calcula-se a média das métricas de avaliação obtidas em cada teste.\n",
    "\n",
    "A figura abaixo ilustra o processo de validação cruzada com $k=4$.\n",
    "\n",
    "![Validação cruzada](https://upload.wikimedia.org/wikipedia/commons/1/1c/K-fold_cross_validation_EN.jpg)"
   ]
  },
  {
   "cell_type": "code",
   "execution_count": 46,
   "metadata": {},
   "outputs": [],
   "source": [
    "import polars as pl\n",
    "import numpy as np\n",
    "import matplotlib.pyplot as plt\n",
    "import seaborn as sns\n",
    "\n",
    "from sklearn.datasets import fetch_openml\n",
    "\n",
    "from sklearn.model_selection import train_test_split, cross_val_score, KFold, GridSearchCV\n",
    "from sklearn.neighbors import KNeighborsClassifier\n",
    "from sklearn.metrics import accuracy_score, ConfusionMatrixDisplay, confusion_matrix, classification_report, cohen_kappa_score, make_scorer, f1_score\n",
    "from sklearn.preprocessing import StandardScaler, MinMaxScaler"
   ]
  },
  {
   "cell_type": "markdown",
   "metadata": {},
   "source": [
    "## Importando dados"
   ]
  },
  {
   "cell_type": "code",
   "execution_count": 6,
   "metadata": {},
   "outputs": [],
   "source": [
    "data = fetch_openml(data_id=1523, parser='auto')"
   ]
  },
  {
   "cell_type": "code",
   "execution_count": 9,
   "metadata": {},
   "outputs": [
    {
     "data": {
      "text/html": [
       "<div><style>\n",
       ".dataframe > thead > tr > th,\n",
       ".dataframe > tbody > tr > td {\n",
       "  text-align: right;\n",
       "  white-space: pre-wrap;\n",
       "}\n",
       "</style>\n",
       "<small>shape: (5, 6)</small><table border=\"1\" class=\"dataframe\"><thead><tr><th>V1</th><th>V2</th><th>V3</th><th>V4</th><th>V5</th><th>V6</th></tr><tr><td>f64</td><td>f64</td><td>f64</td><td>f64</td><td>f64</td><td>f64</td></tr></thead><tbody><tr><td>63.027818</td><td>22.552586</td><td>39.609117</td><td>40.475232</td><td>98.672917</td><td>-0.2544</td></tr><tr><td>39.056951</td><td>10.060991</td><td>25.015378</td><td>28.99596</td><td>114.405425</td><td>4.564259</td></tr><tr><td>68.832021</td><td>22.218482</td><td>50.092194</td><td>46.613539</td><td>105.985136</td><td>-3.530317</td></tr><tr><td>69.297008</td><td>24.652878</td><td>44.311238</td><td>44.64413</td><td>101.868495</td><td>11.211523</td></tr><tr><td>49.712859</td><td>9.652075</td><td>28.317406</td><td>40.060784</td><td>108.168725</td><td>7.918501</td></tr></tbody></table></div>"
      ],
      "text/plain": [
       "shape: (5, 6)\n",
       "┌───────────┬───────────┬───────────┬───────────┬────────────┬───────────┐\n",
       "│ V1        ┆ V2        ┆ V3        ┆ V4        ┆ V5         ┆ V6        │\n",
       "│ ---       ┆ ---       ┆ ---       ┆ ---       ┆ ---        ┆ ---       │\n",
       "│ f64       ┆ f64       ┆ f64       ┆ f64       ┆ f64        ┆ f64       │\n",
       "╞═══════════╪═══════════╪═══════════╪═══════════╪════════════╪═══════════╡\n",
       "│ 63.027818 ┆ 22.552586 ┆ 39.609117 ┆ 40.475232 ┆ 98.672917  ┆ -0.2544   │\n",
       "│ 39.056951 ┆ 10.060991 ┆ 25.015378 ┆ 28.99596  ┆ 114.405425 ┆ 4.564259  │\n",
       "│ 68.832021 ┆ 22.218482 ┆ 50.092194 ┆ 46.613539 ┆ 105.985136 ┆ -3.530317 │\n",
       "│ 69.297008 ┆ 24.652878 ┆ 44.311238 ┆ 44.64413  ┆ 101.868495 ┆ 11.211523 │\n",
       "│ 49.712859 ┆ 9.652075  ┆ 28.317406 ┆ 40.060784 ┆ 108.168725 ┆ 7.918501  │\n",
       "└───────────┴───────────┴───────────┴───────────┴────────────┴───────────┘"
      ]
     },
     "execution_count": 9,
     "metadata": {},
     "output_type": "execute_result"
    }
   ],
   "source": [
    "df = pl.DataFrame(data.data, schema=data.feature_names)\n",
    "df.head()"
   ]
  },
  {
   "cell_type": "code",
   "execution_count": 26,
   "metadata": {},
   "outputs": [],
   "source": [
    "classes = {\n",
    "    '1': 'Disk Hernia',\n",
    "    '2': 'Normal',\n",
    "    '3': 'Spondylolisthesis'\n",
    "}\n",
    "\n",
    "df = df.with_columns(\n",
    "    pl.Series(list(data.target)).map_dict(classes).alias('diagnostic'),\n",
    ")"
   ]
  },
  {
   "cell_type": "markdown",
   "metadata": {},
   "source": [
    "Removendo outliers"
   ]
  },
  {
   "cell_type": "code",
   "execution_count": 29,
   "metadata": {},
   "outputs": [],
   "source": [
    "df = df.filter(\n",
    "    pl.col('V6') <= 400\n",
    ")"
   ]
  },
  {
   "cell_type": "markdown",
   "metadata": {},
   "source": [
    "## Preparando os dados"
   ]
  },
  {
   "cell_type": "code",
   "execution_count": 30,
   "metadata": {},
   "outputs": [],
   "source": [
    "X = df.select(\n",
    "    pl.all().exclude('diagnostic')\n",
    ")\n",
    "\n",
    "y = df.select('diagnostic')"
   ]
  },
  {
   "cell_type": "code",
   "execution_count": 31,
   "metadata": {},
   "outputs": [],
   "source": [
    "X_train, X_test, y_train, y_test = train_test_split(X, y, test_size=0.2, stratify=y, random_state=42)"
   ]
  },
  {
   "cell_type": "markdown",
   "metadata": {},
   "source": [
    "### Normalizando dados"
   ]
  },
  {
   "cell_type": "code",
   "execution_count": 32,
   "metadata": {},
   "outputs": [],
   "source": [
    "mms = MinMaxScaler()\n",
    "mms.fit(X_train)\n",
    "\n",
    "X_train_scaled = mms.transform(X_train)\n",
    "X_test_scaled = mms.transform(X_test)"
   ]
  },
  {
   "cell_type": "markdown",
   "metadata": {},
   "source": [
    "## Criando o Modelo"
   ]
  },
  {
   "cell_type": "code",
   "execution_count": 36,
   "metadata": {},
   "outputs": [],
   "source": [
    "knn = KNeighborsClassifier(n_neighbors=3)\n",
    "knn.fit(X_train_scaled, y_train.to_numpy().ravel())\n",
    "y_hat = knn.predict(X_test_scaled)"
   ]
  },
  {
   "cell_type": "code",
   "execution_count": 39,
   "metadata": {},
   "outputs": [
    {
     "data": {
      "text/plain": [
       "<Figure size 1000x1000 with 0 Axes>"
      ]
     },
     "metadata": {},
     "output_type": "display_data"
    },
    {
     "data": {
      "image/png": "[encoded data removed]",
      "text/plain": [
       "<Figure size 640x480 with 2 Axes>"
      ]
     },
     "metadata": {},
     "output_type": "display_data"
    }
   ],
   "source": [
    "mc = confusion_matrix(y_test.to_numpy().ravel(), y_hat, labels=list(classes.values()))\n",
    "\n",
    "figure = plt.figure(figsize=(10, 10))\n",
    "display = ConfusionMatrixDisplay(mc, display_labels=list(classes.values()))\n",
    "display.plot();"
   ]
  },
  {
   "cell_type": "code",
   "execution_count": 40,
   "metadata": {},
   "outputs": [
    {
     "name": "stdout",
     "output_type": "stream",
     "text": [
      "                   precision    recall  f1-score   support\n",
      "\n",
      "      Disk Hernia       0.54      0.58      0.56        12\n",
      "           Normal       0.79      0.75      0.77        20\n",
      "Spondylolisthesis       0.93      0.93      0.93        30\n",
      "\n",
      "         accuracy                           0.81        62\n",
      "        macro avg       0.75      0.76      0.75        62\n",
      "     weighted avg       0.81      0.81      0.81        62\n",
      "\n"
     ]
    }
   ],
   "source": [
    "print(classification_report(y_test.to_numpy().ravel(), y_hat, target_names=list(classes.values())))"
   ]
  },
  {
   "cell_type": "markdown",
   "metadata": {},
   "source": [
    "### Utilizando validaçao cruzada\n",
    "\n",
    "Idealmente devemos ter 3 conjuntos de dados: treinamento, validação e teste. No entanto, nem sempre temos dados suficientes para isso. Nesses casos, podemos utilizar a validação cruzada pem cima dos dados de treino."
   ]
  },
  {
   "cell_type": "code",
   "execution_count": 43,
   "metadata": {},
   "outputs": [
    {
     "name": "stdout",
     "output_type": "stream",
     "text": [
      "K-fold (R2) Score: [0.78       0.84       0.83673469 0.79591837 0.7755102 ]\n",
      "K-fold (Mean R2) Score: 0.81 (+/- 0.03)\n"
     ]
    }
   ],
   "source": [
    "kfold = KFold(n_splits=5, shuffle=True)\n",
    "results = cross_val_score(knn, X_train_scaled, y_train.to_numpy().ravel(), cv=kfold)\n",
    "\n",
    "print(f'K-fold (R2) Score: {results}')\n",
    "print(f'K-fold (Mean R2) Score: {results.mean():.2f} (+/- {results.std():.2f})')"
   ]
  },
  {
   "cell_type": "markdown",
   "metadata": {},
   "source": [
    "### Utilizando GridSearchCV para otimizar hiperparâmetros"
   ]
  },
  {
   "cell_type": "code",
   "execution_count": 48,
   "metadata": {},
   "outputs": [],
   "source": [
    "error = []\n",
    "\n",
    "for i in range(1, 15):\n",
    "    knn = KNeighborsClassifier(n_neighbors=i)\n",
    "    knn.fit(X_train_scaled, y_train.to_numpy().ravel())\n",
    "    y_hat = knn.predict(X_test_scaled)\n",
    "    error.append(np.mean(y_hat != y_test.to_numpy().ravel()))"
   ]
  },
  {
   "cell_type": "code",
   "execution_count": 49,
   "metadata": {},
   "outputs": [
    {
     "data": {
      "image/png": "[encoded data removed]",
      "text/plain": [
       "<Figure size 1200x600 with 1 Axes>"
      ]
     },
     "metadata": {},
     "output_type": "display_data"
    }
   ],
   "source": [
    "plt.figure(figsize=(12, 6))\n",
    "plt.plot(range(1, 15), error, color='red', linestyle='dashed', marker='o', markerfacecolor='blue', markersize=10)\n",
    "plt.title('Error Rate K Value')\n",
    "plt.xlabel('K Value')\n",
    "plt.ylabel('Mean Error');"
   ]
  },
  {
   "cell_type": "markdown",
   "metadata": {},
   "source": [
    "Podemos perceber que variando o número de vizinhos ($k$) o desempenho do modelo varia. Para encontrar o melhor valor de $k$, ou de outros parametros como o calculo de distância utilizado, podemos utilizar o GridSearchCV."
   ]
  },
  {
   "cell_type": "code",
   "execution_count": 50,
   "metadata": {},
   "outputs": [
    {
     "name": "stdout",
     "output_type": "stream",
     "text": [
      "Fitting 5 folds for each of 12 candidates, totalling 60 fits\n",
      "[CV 1/5] END metric=cosine, n_neighbors=8, weights=distance;, score=0.760 total time=   0.0s\n",
      "[CV 2/5] END metric=cosine, n_neighbors=8, weights=distance;, score=0.780 total time=   0.0s\n",
      "[CV 2/5] END metric=cosine, n_neighbors=8, weights=uniform;, score=0.760 total time=   0.0s\n",
      "[CV 1/5] END metric=cosine, n_neighbors=8, weights=uniform;, score=0.760 total time=   0.0s\n",
      "[CV 4/5] END metric=cosine, n_neighbors=8, weights=uniform;, score=0.796 total time=   0.0s\n",
      "[CV 3/5] END metric=cosine, n_neighbors=8, weights=distance;, score=0.796 total time=   0.0s\n",
      "[CV 5/5] END metric=cosine, n_neighbors=8, weights=uniform;, score=0.837 total time=   0.0s\n",
      "[CV 3/5] END metric=cosine, n_neighbors=8, weights=uniform;, score=0.776 total time=   0.0s\n",
      "[CV 4/5] END metric=cosine, n_neighbors=8, weights=distance;, score=0.796 total time=   0.0s\n",
      "[CV 5/5] END metric=cosine, n_neighbors=8, weights=distance;, score=0.878 total time=   0.0s\n",
      "[CV 1/5] END metric=cosine, n_neighbors=14, weights=uniform;, score=0.760 total time=   0.0s\n",
      "[CV 2/5] END metric=cosine, n_neighbors=14, weights=uniform;, score=0.800 total time=   0.0s\n",
      "[CV 3/5] END metric=cosine, n_neighbors=14, weights=uniform;, score=0.755 total time=   0.0s\n",
      "[CV 4/5] END metric=cosine, n_neighbors=14, weights=uniform;, score=0.755 total time=   0.0s\n",
      "[CV 1/5] END metric=cosine, n_neighbors=14, weights=distance;, score=0.760 total time=   0.0s\n",
      "[CV 2/5] END metric=cosine, n_neighbors=14, weights=distance;, score=0.840 total time=   0.0s\n",
      "[CV 5/5] END metric=cosine, n_neighbors=14, weights=uniform;, score=0.816 total time=   0.0s\n",
      "[CV 3/5] END metric=cosine, n_neighbors=14, weights=distance;, score=0.755 total time=   0.0s\n",
      "[CV 4/5] END metric=cosine, n_neighbors=14, weights=distance;, score=0.776 total time=   0.0s\n",
      "[CV 5/5] END metric=cosine, n_neighbors=14, weights=distance;, score=0.837 total time=   0.0s\n",
      "[CV 1/5] END metric=euclidean, n_neighbors=8, weights=uniform;, score=0.780 total time=   0.0s\n",
      "[CV 2/5] END metric=euclidean, n_neighbors=8, weights=uniform;, score=0.840 total time=   0.0s\n",
      "[CV 3/5] END metric=euclidean, n_neighbors=8, weights=uniform;, score=0.796 total time=   0.0s\n",
      "[CV 4/5] END metric=euclidean, n_neighbors=8, weights=uniform;, score=0.735 total time=   0.0s\n",
      "[CV 1/5] END metric=euclidean, n_neighbors=8, weights=distance;, score=0.780 total time=   0.0s\n",
      "[CV 2/5] END metric=euclidean, n_neighbors=8, weights=distance;, score=0.840 total time=   0.0s\n",
      "[CV 5/5] END metric=euclidean, n_neighbors=8, weights=uniform;, score=0.796 total time=   0.0s\n",
      "[CV 3/5] END metric=euclidean, n_neighbors=8, weights=distance;, score=0.816 total time=   0.0s\n",
      "[CV 4/5] END metric=euclidean, n_neighbors=8, weights=distance;, score=0.776 total time=   0.0s\n",
      "[CV 5/5] END metric=euclidean, n_neighbors=8, weights=distance;, score=0.816 total time=   0.0s\n",
      "[CV 1/5] END metric=euclidean, n_neighbors=14, weights=uniform;, score=0.800 total time=   0.0s\n",
      "[CV 2/5] END metric=euclidean, n_neighbors=14, weights=uniform;, score=0.840 total time=   0.0s\n",
      "[CV 3/5] END metric=euclidean, n_neighbors=14, weights=uniform;, score=0.755 total time=   0.0s\n",
      "[CV 1/5] END metric=euclidean, n_neighbors=14, weights=distance;, score=0.800 total time=   0.0s\n",
      "[CV 2/5] END metric=euclidean, n_neighbors=14, weights=distance;, score=0.840 total time=   0.0s\n",
      "[CV 4/5] END metric=euclidean, n_neighbors=14, weights=uniform;, score=0.694 total time=   0.0s\n",
      "[CV 5/5] END metric=euclidean, n_neighbors=14, weights=uniform;, score=0.796 total time=   0.0s\n",
      "[CV 4/5] END metric=euclidean, n_neighbors=14, weights=distance;, score=0.735 total time=   0.0s\n",
      "[CV 5/5] END metric=euclidean, n_neighbors=14, weights=distance;, score=0.776 total time=   0.0s\n",
      "[CV 3/5] END metric=euclidean, n_neighbors=14, weights=distance;, score=0.837 total time=   0.0s\n",
      "[CV 2/5] END metric=manhattan, n_neighbors=8, weights=uniform;, score=0.840 total time=   0.0s\n",
      "[CV 3/5] END metric=manhattan, n_neighbors=8, weights=uniform;, score=0.796 total time=   0.0s\n",
      "[CV 1/5] END metric=manhattan, n_neighbors=8, weights=uniform;, score=0.820 total time=   0.0s\n",
      "[CV 4/5] END metric=manhattan, n_neighbors=8, weights=uniform;, score=0.694 total time=   0.0s\n",
      "[CV 1/5] END metric=manhattan, n_neighbors=8, weights=distance;, score=0.820 total time=   0.0s\n",
      "[CV 5/5] END metric=manhattan, n_neighbors=8, weights=uniform;, score=0.776 total time=   0.0s\n",
      "[CV 2/5] END metric=manhattan, n_neighbors=8, weights=distance;, score=0.840 total time=   0.0s\n",
      "[CV 3/5] END metric=manhattan, n_neighbors=8, weights=distance;, score=0.796 total time=   0.0s\n",
      "[CV 4/5] END metric=manhattan, n_neighbors=8, weights=distance;, score=0.735 total time=   0.0s\n",
      "[CV 5/5] END metric=manhattan, n_neighbors=8, weights=distance;, score=0.776 total time=   0.0s\n",
      "[CV 1/5] END metric=manhattan, n_neighbors=14, weights=uniform;, score=0.820 total time=   0.0s\n",
      "[CV 2/5] END metric=manhattan, n_neighbors=14, weights=uniform;, score=0.820 total time=   0.0s\n",
      "[CV 3/5] END metric=manhattan, n_neighbors=14, weights=uniform;, score=0.755 total time=   0.0s\n",
      "[CV 1/5] END metric=manhattan, n_neighbors=14, weights=distance;, score=0.820 total time=   0.0s\n",
      "[CV 4/5] END metric=manhattan, n_neighbors=14, weights=uniform;, score=0.714 total time=   0.0s\n",
      "[CV 5/5] END metric=manhattan, n_neighbors=14, weights=uniform;, score=0.776 total time=   0.0s\n",
      "[CV 2/5] END metric=manhattan, n_neighbors=14, weights=distance;, score=0.800 total time=   0.0s\n",
      "[CV 3/5] END metric=manhattan, n_neighbors=14, weights=distance;, score=0.796 total time=   0.0s\n",
      "[CV 4/5] END metric=manhattan, n_neighbors=14, weights=distance;, score=0.714 total time=   0.0s\n",
      "[CV 5/5] END metric=manhattan, n_neighbors=14, weights=distance;, score=0.755 total time=   0.0s\n",
      "Best Parameters: {'metric': 'euclidean', 'n_neighbors': 8, 'weights': 'distance'}\n"
     ]
    }
   ],
   "source": [
    "grid_param = {\n",
    "    'n_neighbors': [8,14],\n",
    "    'weights': ['uniform', 'distance'],\n",
    "    'metric': ['cosine', 'euclidean', 'manhattan']\n",
    "}\n",
    "\n",
    "grid_metric = make_scorer(accuracy_score, greater_is_better=True)\n",
    "\n",
    "grid = GridSearchCV(\n",
    "    KNeighborsClassifier(), \n",
    "    grid_param,\n",
    "    scoring=grid_metric,\n",
    "    verbose=3,\n",
    "    cv=5,\n",
    "    n_jobs=-1\n",
    "    )\n",
    "\n",
    "grid.fit(X_train_scaled, y_train.to_numpy().ravel())\n",
    "knn_params = grid.best_params_\n",
    "\n",
    "print(f'Best Parameters: {knn_params}')"
   ]
  },
  {
   "cell_type": "code",
   "execution_count": 51,
   "metadata": {},
   "outputs": [
    {
     "data": {
      "text/plain": [
       "{'mean_fit_time': array([0.00045819, 0.00054035, 0.00039101, 0.00037618, 0.00044641,\n",
       "        0.00039034, 0.00041599, 0.00038018, 0.00037522, 0.00037932,\n",
       "        0.00037489, 0.00032277]),\n",
       " 'std_fit_time': array([2.17536017e-05, 1.06052979e-04, 2.13290705e-05, 2.48374035e-05,\n",
       "        3.08902899e-05, 4.72048075e-05, 3.76596919e-05, 7.17551362e-05,\n",
       "        3.47487697e-05, 3.47692444e-05, 2.25759105e-05, 7.77317699e-06]),\n",
       " 'mean_score_time': array([0.00283036, 0.00161834, 0.00206428, 0.0009419 , 0.00167727,\n",
       "        0.00059586, 0.00161982, 0.00061331, 0.00149589, 0.00057716,\n",
       "        0.00149884, 0.00057425]),\n",
       " 'std_score_time': array([8.90536634e-04, 9.33668701e-04, 7.13242877e-05, 3.23883018e-05,\n",
       "        6.25051490e-05, 4.86437943e-05, 4.68801501e-05, 3.64362877e-05,\n",
       "        8.99272910e-05, 2.96665532e-05, 3.19977275e-05, 1.38804668e-05]),\n",
       " 'param_metric': masked_array(data=['cosine', 'cosine', 'cosine', 'cosine', 'euclidean',\n",
       "                    'euclidean', 'euclidean', 'euclidean', 'manhattan',\n",
       "                    'manhattan', 'manhattan', 'manhattan'],\n",
       "              mask=[False, False, False, False, False, False, False, False,\n",
       "                    False, False, False, False],\n",
       "        fill_value='?',\n",
       "             dtype=object),\n",
       " 'param_n_neighbors': masked_array(data=[8, 8, 14, 14, 8, 8, 14, 14, 8, 8, 14, 14],\n",
       "              mask=[False, False, False, False, False, False, False, False,\n",
       "                    False, False, False, False],\n",
       "        fill_value='?',\n",
       "             dtype=object),\n",
       " 'param_weights': masked_array(data=['uniform', 'distance', 'uniform', 'distance',\n",
       "                    'uniform', 'distance', 'uniform', 'distance',\n",
       "                    'uniform', 'distance', 'uniform', 'distance'],\n",
       "              mask=[False, False, False, False, False, False, False, False,\n",
       "                    False, False, False, False],\n",
       "        fill_value='?',\n",
       "             dtype=object),\n",
       " 'params': [{'metric': 'cosine', 'n_neighbors': 8, 'weights': 'uniform'},\n",
       "  {'metric': 'cosine', 'n_neighbors': 8, 'weights': 'distance'},\n",
       "  {'metric': 'cosine', 'n_neighbors': 14, 'weights': 'uniform'},\n",
       "  {'metric': 'cosine', 'n_neighbors': 14, 'weights': 'distance'},\n",
       "  {'metric': 'euclidean', 'n_neighbors': 8, 'weights': 'uniform'},\n",
       "  {'metric': 'euclidean', 'n_neighbors': 8, 'weights': 'distance'},\n",
       "  {'metric': 'euclidean', 'n_neighbors': 14, 'weights': 'uniform'},\n",
       "  {'metric': 'euclidean', 'n_neighbors': 14, 'weights': 'distance'},\n",
       "  {'metric': 'manhattan', 'n_neighbors': 8, 'weights': 'uniform'},\n",
       "  {'metric': 'manhattan', 'n_neighbors': 8, 'weights': 'distance'},\n",
       "  {'metric': 'manhattan', 'n_neighbors': 14, 'weights': 'uniform'},\n",
       "  {'metric': 'manhattan', 'n_neighbors': 14, 'weights': 'distance'}],\n",
       " 'split0_test_score': array([0.76, 0.76, 0.76, 0.76, 0.78, 0.78, 0.8 , 0.8 , 0.82, 0.82, 0.82,\n",
       "        0.82]),\n",
       " 'split1_test_score': array([0.76, 0.78, 0.8 , 0.84, 0.84, 0.84, 0.84, 0.84, 0.84, 0.84, 0.82,\n",
       "        0.8 ]),\n",
       " 'split2_test_score': array([0.7755102 , 0.79591837, 0.75510204, 0.75510204, 0.79591837,\n",
       "        0.81632653, 0.75510204, 0.83673469, 0.79591837, 0.79591837,\n",
       "        0.75510204, 0.79591837]),\n",
       " 'split3_test_score': array([0.79591837, 0.79591837, 0.75510204, 0.7755102 , 0.73469388,\n",
       "        0.7755102 , 0.69387755, 0.73469388, 0.69387755, 0.73469388,\n",
       "        0.71428571, 0.71428571]),\n",
       " 'split4_test_score': array([0.83673469, 0.87755102, 0.81632653, 0.83673469, 0.79591837,\n",
       "        0.81632653, 0.79591837, 0.7755102 , 0.7755102 , 0.7755102 ,\n",
       "        0.7755102 , 0.75510204]),\n",
       " 'mean_test_score': array([0.78563265, 0.80187755, 0.77730612, 0.79346939, 0.78930612,\n",
       "        0.80563265, 0.77697959, 0.79738776, 0.78506122, 0.79322449,\n",
       "        0.77697959, 0.77706122]),\n",
       " 'std_test_score': array([0.02875324, 0.04007457, 0.02578041, 0.03728745, 0.03384203,\n",
       "        0.02438945, 0.0494869 , 0.03944606, 0.05052237, 0.036474  ,\n",
       "        0.04028106, 0.03781134]),\n",
       " 'rank_test_score': array([ 7,  2,  9,  4,  6,  1, 11,  3,  8,  5, 11, 10], dtype=int32)}"
      ]
     },
     "execution_count": 51,
     "metadata": {},
     "output_type": "execute_result"
    }
   ],
   "source": [
    "grid.cv_results_"
   ]
  },
  {
   "cell_type": "markdown",
   "metadata": {},
   "source": [
    "### Testando vários tipos de modelos"
   ]
  },
  {
   "cell_type": "code",
   "execution_count": 52,
   "metadata": {},
   "outputs": [],
   "source": [
    "def AplicaValidacaoCruzada(x_axis, y_axis):\n",
    "    from sklearn.ensemble import RandomForestClassifier\n",
    "    from sklearn.svm import SVC\n",
    "\n",
    "    kfold = KFold(n_splits=10, shuffle=True)\n",
    "\n",
    "    X = x_axis\n",
    "    y = y_axis\n",
    "\n",
    "    knn = KNeighborsClassifier(n_neighbors=8, metric='euclidean', weights='distance')\n",
    "    knn.fit(X, y)\n",
    "\n",
    "    rf = RandomForestClassifier(n_estimators=100, max_depth=2, random_state=0)\n",
    "    rf.fit(X, y)\n",
    "\n",
    "    svm = SVC(kernel='linear', C=1, random_state=0)\n",
    "    svm.fit(X, y)\n",
    "\n",
    "    knn_scores = cross_val_score(knn, X, y, cv=kfold)\n",
    "    rf_scores = cross_val_score(rf, X, y, cv=kfold)\n",
    "    svm_scores = cross_val_score(svm, X, y, cv=kfold)\n",
    "\n",
    "    dict_models = {\n",
    "        'KNN': knn_scores.mean(),\n",
    "        'Random Forest': rf_scores.mean(),\n",
    "        'SVM': svm_scores.mean()\n",
    "    }\n",
    "\n",
    "    melhorModelo = max(dict_models, key=dict_models.get)\n",
    "\n",
    "    print(f'KNN: {knn_scores.mean()}')\n",
    "    print(f'Random Forest: {rf_scores.mean()}')\n",
    "    print(f'SVM: {svm_scores.mean()}')\n",
    "    print(f'Melhor Modelo: {melhorModelo}')\n",
    "\n"
   ]
  },
  {
   "cell_type": "code",
   "execution_count": 53,
   "metadata": {},
   "outputs": [
    {
     "name": "stdout",
     "output_type": "stream",
     "text": [
      "KNN: 0.7856666666666666\n",
      "Random Forest: 0.7853333333333334\n",
      "SVM: 0.7976666666666666\n",
      "Melhor Modelo: SVM\n"
     ]
    }
   ],
   "source": [
    "AplicaValidacaoCruzada(X_train_scaled, y_train.to_numpy().ravel())"
   ]
  },
  {
   "cell_type": "code",
   "execution_count": null,
   "metadata": {},
   "outputs": [],
   "source": []
  }
 ],
 "metadata": {
  "kernelspec": {
   "display_name": ".venv",
   "language": "python",
   "name": "python3"
  },
  "language_info": {
   "codemirror_mode": {
    "name": "ipython",
    "version": 3
   },
   "file_extension": ".py",
   "mimetype": "text/x-python",
   "name": "python",
   "nbconvert_exporter": "python",
   "pygments_lexer": "ipython3",
   "version": "3.10.8"
  }
 },
 "nbformat": 4,
 "nbformat_minor": 2
}
