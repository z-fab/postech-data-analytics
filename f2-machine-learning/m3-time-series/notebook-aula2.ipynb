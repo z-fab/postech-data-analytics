{
 "cells": [
  {
   "cell_type": "markdown",
   "metadata": {},
   "source": [
    "# Trabalhando com Datas\n",
    "\n",
    "Saber trabalhar com datas é essencial para qualquer pessoa que trabalhe com dados. Neste notebook, vamos aprender a trabalhar com datas no Python usando Polars."
   ]
  },
  {
   "cell_type": "code",
   "execution_count": 9,
   "metadata": {},
   "outputs": [],
   "source": [
    "import polars as pl\n",
    "import numpy as np\n",
    "import datetime\n",
    "\n",
    "import matplotlib.pyplot as plt\n",
    "import seaborn as sns"
   ]
  },
  {
   "cell_type": "code",
   "execution_count": 2,
   "metadata": {},
   "outputs": [
    {
     "data": {
      "text/html": [
       "<div><style>\n",
       ".dataframe > thead > tr > th,\n",
       ".dataframe > tbody > tr > td {\n",
       "  text-align: right;\n",
       "  white-space: pre-wrap;\n",
       "}\n",
       "</style>\n",
       "<small>shape: (5, 2)</small><table border=\"1\" class=\"dataframe\"><thead><tr><th>date</th><th>value</th></tr><tr><td>date</td><td>f64</td></tr></thead><tbody><tr><td>1985-01-01</td><td>72.5052</td></tr><tr><td>1985-02-01</td><td>70.672</td></tr><tr><td>1985-03-01</td><td>62.4502</td></tr><tr><td>1985-04-01</td><td>57.4714</td></tr><tr><td>1985-05-01</td><td>55.3151</td></tr></tbody></table></div>"
      ],
      "text/plain": [
       "shape: (5, 2)\n",
       "┌────────────┬─────────┐\n",
       "│ date       ┆ value   │\n",
       "│ ---        ┆ ---     │\n",
       "│ date       ┆ f64     │\n",
       "╞════════════╪═════════╡\n",
       "│ 1985-01-01 ┆ 72.5052 │\n",
       "│ 1985-02-01 ┆ 70.672  │\n",
       "│ 1985-03-01 ┆ 62.4502 │\n",
       "│ 1985-04-01 ┆ 57.4714 │\n",
       "│ 1985-05-01 ┆ 55.3151 │\n",
       "└────────────┴─────────┘"
      ]
     },
     "execution_count": 2,
     "metadata": {},
     "output_type": "execute_result"
    }
   ],
   "source": [
    "df_path = 'https://raw.githubusercontent.com/carlosfab/datasets/master/electricity_consumption/Electric_Production.csv'\n",
    "df = pl.read_csv(df_path)\n",
    "\n",
    "df = df.select(\n",
    "    pl.col('DATE').str.to_date('%m-%d-%Y').alias('date'),\n",
    "    pl.col('Value').alias('value')\n",
    ")\n",
    "\n",
    "df.head(5)"
   ]
  },
  {
   "cell_type": "markdown",
   "metadata": {},
   "source": [
    "Podemos agora usar a localização por data"
   ]
  },
  {
   "cell_type": "code",
   "execution_count": 3,
   "metadata": {},
   "outputs": [
    {
     "data": {
      "text/html": [
       "<div><style>\n",
       ".dataframe > thead > tr > th,\n",
       ".dataframe > tbody > tr > td {\n",
       "  text-align: right;\n",
       "  white-space: pre-wrap;\n",
       "}\n",
       "</style>\n",
       "<small>shape: (12, 2)</small><table border=\"1\" class=\"dataframe\"><thead><tr><th>date</th><th>value</th></tr><tr><td>date</td><td>f64</td></tr></thead><tbody><tr><td>1985-01-01</td><td>72.5052</td></tr><tr><td>1985-02-01</td><td>70.672</td></tr><tr><td>1985-03-01</td><td>62.4502</td></tr><tr><td>1985-04-01</td><td>57.4714</td></tr><tr><td>1985-05-01</td><td>55.3151</td></tr><tr><td>1985-06-01</td><td>58.0904</td></tr><tr><td>1985-07-01</td><td>62.6202</td></tr><tr><td>1985-08-01</td><td>63.2485</td></tr><tr><td>1985-09-01</td><td>60.5846</td></tr><tr><td>1985-10-01</td><td>56.3154</td></tr><tr><td>1985-11-01</td><td>58.0005</td></tr><tr><td>1985-12-01</td><td>68.7145</td></tr></tbody></table></div>"
      ],
      "text/plain": [
       "shape: (12, 2)\n",
       "┌────────────┬─────────┐\n",
       "│ date       ┆ value   │\n",
       "│ ---        ┆ ---     │\n",
       "│ date       ┆ f64     │\n",
       "╞════════════╪═════════╡\n",
       "│ 1985-01-01 ┆ 72.5052 │\n",
       "│ 1985-02-01 ┆ 70.672  │\n",
       "│ 1985-03-01 ┆ 62.4502 │\n",
       "│ 1985-04-01 ┆ 57.4714 │\n",
       "│ …          ┆ …       │\n",
       "│ 1985-09-01 ┆ 60.5846 │\n",
       "│ 1985-10-01 ┆ 56.3154 │\n",
       "│ 1985-11-01 ┆ 58.0005 │\n",
       "│ 1985-12-01 ┆ 68.7145 │\n",
       "└────────────┴─────────┘"
      ]
     },
     "execution_count": 3,
     "metadata": {},
     "output_type": "execute_result"
    }
   ],
   "source": [
    "df.filter(\n",
    "    pl.col('date').dt.year() == 1985\n",
    ")"
   ]
  },
  {
   "cell_type": "code",
   "execution_count": 10,
   "metadata": {},
   "outputs": [
    {
     "data": {
      "text/html": [
       "<div><style>\n",
       ".dataframe > thead > tr > th,\n",
       ".dataframe > tbody > tr > td {\n",
       "  text-align: right;\n",
       "  white-space: pre-wrap;\n",
       "}\n",
       "</style>\n",
       "<small>shape: (1, 2)</small><table border=\"1\" class=\"dataframe\"><thead><tr><th>date</th><th>value</th></tr><tr><td>date</td><td>f64</td></tr></thead><tbody><tr><td>1985-05-01</td><td>55.3151</td></tr></tbody></table></div>"
      ],
      "text/plain": [
       "shape: (1, 2)\n",
       "┌────────────┬─────────┐\n",
       "│ date       ┆ value   │\n",
       "│ ---        ┆ ---     │\n",
       "│ date       ┆ f64     │\n",
       "╞════════════╪═════════╡\n",
       "│ 1985-05-01 ┆ 55.3151 │\n",
       "└────────────┴─────────┘"
      ]
     },
     "execution_count": 10,
     "metadata": {},
     "output_type": "execute_result"
    }
   ],
   "source": [
    "df.filter(\n",
    "    pl.col('date') == datetime.date(1985, 5, 1)\n",
    ")"
   ]
  },
  {
   "cell_type": "code",
   "execution_count": 11,
   "metadata": {},
   "outputs": [
    {
     "data": {
      "text/html": [
       "<div><style>\n",
       ".dataframe > thead > tr > th,\n",
       ".dataframe > tbody > tr > td {\n",
       "  text-align: right;\n",
       "  white-space: pre-wrap;\n",
       "}\n",
       "</style>\n",
       "<small>shape: (5, 2)</small><table border=\"1\" class=\"dataframe\"><thead><tr><th>date</th><th>value</th></tr><tr><td>date</td><td>f64</td></tr></thead><tbody><tr><td>1985-01-01</td><td>72.5052</td></tr><tr><td>1985-02-01</td><td>70.672</td></tr><tr><td>1985-03-01</td><td>62.4502</td></tr><tr><td>1985-04-01</td><td>57.4714</td></tr><tr><td>1985-05-01</td><td>55.3151</td></tr></tbody></table></div>"
      ],
      "text/plain": [
       "shape: (5, 2)\n",
       "┌────────────┬─────────┐\n",
       "│ date       ┆ value   │\n",
       "│ ---        ┆ ---     │\n",
       "│ date       ┆ f64     │\n",
       "╞════════════╪═════════╡\n",
       "│ 1985-01-01 ┆ 72.5052 │\n",
       "│ 1985-02-01 ┆ 70.672  │\n",
       "│ 1985-03-01 ┆ 62.4502 │\n",
       "│ 1985-04-01 ┆ 57.4714 │\n",
       "│ 1985-05-01 ┆ 55.3151 │\n",
       "└────────────┴─────────┘"
      ]
     },
     "execution_count": 11,
     "metadata": {},
     "output_type": "execute_result"
    }
   ],
   "source": [
    "df.filter(\n",
    "    pl.col('date') <= datetime.date(1985, 5, 1)\n",
    ")"
   ]
  },
  {
   "cell_type": "code",
   "execution_count": 20,
   "metadata": {},
   "outputs": [
    {
     "data": {
      "text/html": [
       "<div><style>\n",
       ".dataframe > thead > tr > th,\n",
       ".dataframe > tbody > tr > td {\n",
       "  text-align: right;\n",
       "  white-space: pre-wrap;\n",
       "}\n",
       "</style>\n",
       "<small>shape: (3, 2)</small><table border=\"1\" class=\"dataframe\"><thead><tr><th>date</th><th>value</th></tr><tr><td>date</td><td>f64</td></tr></thead><tbody><tr><td>1985-01-01</td><td>72.5052</td></tr><tr><td>1985-02-01</td><td>70.672</td></tr><tr><td>1985-03-01</td><td>62.4502</td></tr></tbody></table></div>"
      ],
      "text/plain": [
       "shape: (3, 2)\n",
       "┌────────────┬─────────┐\n",
       "│ date       ┆ value   │\n",
       "│ ---        ┆ ---     │\n",
       "│ date       ┆ f64     │\n",
       "╞════════════╪═════════╡\n",
       "│ 1985-01-01 ┆ 72.5052 │\n",
       "│ 1985-02-01 ┆ 70.672  │\n",
       "│ 1985-03-01 ┆ 62.4502 │\n",
       "└────────────┴─────────┘"
      ]
     },
     "execution_count": 20,
     "metadata": {},
     "output_type": "execute_result"
    }
   ],
   "source": [
    "df.filter(\n",
    "    pl.col('date') <= datetime.datetime.strptime('1985-03-01', '%Y-%m-%d')\n",
    ")"
   ]
  },
  {
   "cell_type": "code",
   "execution_count": 24,
   "metadata": {},
   "outputs": [
    {
     "data": {
      "text/html": [
       "<div><style>\n",
       ".dataframe > thead > tr > th,\n",
       ".dataframe > tbody > tr > td {\n",
       "  text-align: right;\n",
       "  white-space: pre-wrap;\n",
       "}\n",
       "</style>\n",
       "<small>shape: (12, 2)</small><table border=\"1\" class=\"dataframe\"><thead><tr><th>date</th><th>value</th></tr><tr><td>u32</td><td>f64</td></tr></thead><tbody><tr><td>1</td><td>102.100241</td></tr><tr><td>2</td><td>94.095521</td></tr><tr><td>3</td><td>87.902691</td></tr><tr><td>4</td><td>79.134518</td></tr><tr><td>5</td><td>79.414367</td></tr><tr><td>6</td><td>87.415906</td></tr><tr><td>7</td><td>94.944915</td></tr><tr><td>8</td><td>95.169848</td></tr><tr><td>9</td><td>86.484391</td></tr><tr><td>10</td><td>80.209121</td></tr><tr><td>11</td><td>83.135879</td></tr><tr><td>12</td><td>95.757606</td></tr></tbody></table></div>"
      ],
      "text/plain": [
       "shape: (12, 2)\n",
       "┌──────┬────────────┐\n",
       "│ date ┆ value      │\n",
       "│ ---  ┆ ---        │\n",
       "│ u32  ┆ f64        │\n",
       "╞══════╪════════════╡\n",
       "│ 1    ┆ 102.100241 │\n",
       "│ 2    ┆ 94.095521  │\n",
       "│ 3    ┆ 87.902691  │\n",
       "│ 4    ┆ 79.134518  │\n",
       "│ …    ┆ …          │\n",
       "│ 9    ┆ 86.484391  │\n",
       "│ 10   ┆ 80.209121  │\n",
       "│ 11   ┆ 83.135879  │\n",
       "│ 12   ┆ 95.757606  │\n",
       "└──────┴────────────┘"
      ]
     },
     "execution_count": 24,
     "metadata": {},
     "output_type": "execute_result"
    }
   ],
   "source": [
    "df.group_by(pl.col('date').dt.month()).agg(pl.mean('value')).sort('date')"
   ]
  },
  {
   "cell_type": "code",
   "execution_count": null,
   "metadata": {},
   "outputs": [],
   "source": []
  }
 ],
 "metadata": {
  "kernelspec": {
   "display_name": ".venv",
   "language": "python",
   "name": "python3"
  },
  "language_info": {
   "codemirror_mode": {
    "name": "ipython",
    "version": 3
   },
   "file_extension": ".py",
   "mimetype": "text/x-python",
   "name": "python",
   "nbconvert_exporter": "python",
   "pygments_lexer": "ipython3",
   "version": "3.10.8"
  }
 },
 "nbformat": 4,
 "nbformat_minor": 2
}
